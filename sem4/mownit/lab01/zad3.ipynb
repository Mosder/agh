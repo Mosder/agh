{
 "cells": [
  {
   "cell_type": "markdown",
   "id": "74cf5156-19b5-4911-9186-25be51a213a5",
   "metadata": {},
   "source": [
    "<h2>Import bibliotek</h2>"
   ]
  },
  {
   "cell_type": "code",
   "execution_count": 1,
   "id": "6be82aff-8ac2-4a87-a788-ee4b88323110",
   "metadata": {},
   "outputs": [],
   "source": [
    "import numpy as np"
   ]
  },
  {
   "cell_type": "markdown",
   "id": "3ee6d0e3-81af-4e6e-a7b2-4b95d4bbf887",
   "metadata": {},
   "source": [
    "<h2>Zadanie 3.</h2>"
   ]
  },
  {
   "cell_type": "markdown",
   "id": "f85e705c-2a44-45cb-aac3-a33a44f2aca5",
   "metadata": {},
   "source": [
    "<h4>a) $\\sqrt{x+1} - 1$ dla $x \\approx 0$</h4>"
   ]
  },
  {
   "cell_type": "code",
   "execution_count": 2,
   "id": "0a595d4a-8234-4972-8108-5c273a6c04f6",
   "metadata": {},
   "outputs": [],
   "source": [
    "# calculate naively\n",
    "def a_naive(x):\n",
    "    return np.sqrt(x+1) - 1\n",
    "\n",
    "# calculate after transforming the equation\n",
    "def a_better(x):\n",
    "    return x / (np.sqrt(x+1) + 1)"
   ]
  },
  {
   "cell_type": "markdown",
   "id": "5b215057-7cc7-44ed-8628-b0baea0759f3",
   "metadata": {},
   "source": [
    "Porównanie wartości dla $x = 2^{-30}$"
   ]
  },
  {
   "cell_type": "code",
   "execution_count": 3,
   "id": "854d49ef-1009-4580-9710-21b4848f79fd",
   "metadata": {},
   "outputs": [
    {
     "name": "stdout",
     "output_type": "stream",
     "text": [
      "Wartość prawdziwa:\t4.6566128719931904e-10\n",
      "Bez przekształcenia:\t4.656612873077393e-10\n",
      "Po przekształceniu:\t4.6566128719931904e-10\n"
     ]
    }
   ],
   "source": [
    "x = 2 ** -30\n",
    "print(f\"Wartość prawdziwa:\\t4.6566128719931904e-10\")\n",
    "print(f\"Bez przekształcenia:\\t{a_naive(x)}\")\n",
    "print(f\"Po przekształceniu:\\t{a_better(x)}\")"
   ]
  },
  {
   "cell_type": "markdown",
   "id": "d2a2f954-a036-4d9c-945a-c9641660ad4d",
   "metadata": {},
   "source": [
    "<h4>b) $x^2 - y^2$ dla $x \\approx y$</h4>"
   ]
  },
  {
   "cell_type": "code",
   "execution_count": 4,
   "id": "67528fe4-416f-49e1-a644-5c53a706a248",
   "metadata": {},
   "outputs": [],
   "source": [
    "# calculate naively\n",
    "def b_naive(x, y):\n",
    "    return x**2 - y**2\n",
    "\n",
    "# calculate after transforming the equation\n",
    "def b_better(x, y):\n",
    "    return (x+y)*(x-y)"
   ]
  },
  {
   "cell_type": "markdown",
   "id": "cafe704e-a19e-48d8-b339-a68609bb93fe",
   "metadata": {},
   "source": [
    "Porównanie wartości dla $x = 1 + 2^{-29}$ i $y = 1 + 2^{-30}$"
   ]
  },
  {
   "cell_type": "code",
   "execution_count": 5,
   "id": "2e713b63-90ed-4ac5-bce0-8ad26bd8df67",
   "metadata": {},
   "outputs": [
    {
     "name": "stdout",
     "output_type": "stream",
     "text": [
      "Wartość prawdziwa:\t1.8626451518330422e-09\n",
      "Bez przekształcenia:\t1.862645149230957e-09\n",
      "Po przekształceniu:\t1.8626451518330422e-09\n"
     ]
    }
   ],
   "source": [
    "x = 1 + 2**-29\n",
    "y = 1 + 2**-30\n",
    "print(f\"Wartość prawdziwa:\\t1.8626451518330422e-09\")\n",
    "print(f\"Bez przekształcenia:\\t{b_naive(x, y)}\")\n",
    "print(f\"Po przekształceniu:\\t{b_better(x, y)}\")"
   ]
  },
  {
   "cell_type": "markdown",
   "id": "7abe3da6-82b2-4e41-af3c-e5734062e4eb",
   "metadata": {},
   "source": [
    "<h4>c) $1 - \\cos x$ dla $x \\approx 0$</h4>"
   ]
  },
  {
   "cell_type": "code",
   "execution_count": 6,
   "id": "3a65d06b-558b-43ae-a485-05cb0c2c95a8",
   "metadata": {},
   "outputs": [],
   "source": [
    "# calculate naively\n",
    "def c_naive(x):\n",
    "    return 1 - np.cos(x)\n",
    "\n",
    "# calculate after transforming the equation\n",
    "def c_better(x):\n",
    "    return np.sin(x)**2 / (1+np.cos(x))"
   ]
  },
  {
   "cell_type": "markdown",
   "id": "f43f9890-8b94-4f1d-a3d6-c1012a8dc257",
   "metadata": {},
   "source": [
    "Porównanie wartości dla $x = 2^{-30}$"
   ]
  },
  {
   "cell_type": "code",
   "execution_count": 7,
   "id": "33cce9b6-8a16-4c55-9c1d-fb7bea20588b",
   "metadata": {},
   "outputs": [
    {
     "name": "stdout",
     "output_type": "stream",
     "text": [
      "Wartość prawdziwa:\t1.321067473238713e-22\n",
      "Bez przekształcenia:\t0.0\n",
      "Po przekształceniu:\t4.336808689942018e-19\n"
     ]
    }
   ],
   "source": [
    "x = 2 ** -30\n",
    "print(f\"Wartość prawdziwa:\\t1.321067473238713e-22\")\n",
    "print(f\"Bez przekształcenia:\\t{c_naive(x)}\")\n",
    "print(f\"Po przekształceniu:\\t{c_better(x)}\")"
   ]
  },
  {
   "cell_type": "markdown",
   "id": "d717f46a-a101-407c-bc31-0a8cdaf00cd3",
   "metadata": {},
   "source": [
    "<h4>d) $\\cos^2 x - \\sin^2 x$ dla $x \\approx \\frac{\\pi}{4}$</h4>"
   ]
  },
  {
   "cell_type": "code",
   "execution_count": 8,
   "id": "a2972933-13e5-4f00-94d3-707d39e09734",
   "metadata": {},
   "outputs": [],
   "source": [
    "# calculate naively\n",
    "def d_naive(x):\n",
    "    return np.cos(x)**2 - np.sin(x)**2\n",
    "\n",
    "# calculate after transforming the equation\n",
    "def d_better(x):\n",
    "    return -2*x + np.pi/2"
   ]
  },
  {
   "cell_type": "markdown",
   "id": "9101633f-e4f0-451e-9a7e-689103b90d53",
   "metadata": {},
   "source": [
    "Porównanie wartości dla $x = \\frac{\\pi}{4} + 2^{-25}$"
   ]
  },
  {
   "cell_type": "code",
   "execution_count": 9,
   "id": "e5502cd1-cb3c-4e2d-bc02-d367127d9a2c",
   "metadata": {},
   "outputs": [
    {
     "name": "stdout",
     "output_type": "stream",
     "text": [
      "Wartość prawdziwa:\t-5.960464477539058e-08\n",
      "Bez przekształcenia:\t-5.9604644719879474e-08\n",
      "Po przekształceniu:\t-5.960464477539063e-08\n"
     ]
    }
   ],
   "source": [
    "x = np.pi/4 + 2 ** -25\n",
    "print(f\"Wartość prawdziwa:\\t-5.960464477539058e-08\")\n",
    "print(f\"Bez przekształcenia:\\t{d_naive(x)}\")\n",
    "print(f\"Po przekształceniu:\\t{d_better(x)}\")"
   ]
  },
  {
   "cell_type": "markdown",
   "id": "febc7b7c-1859-4f50-ab1d-542fc72750be",
   "metadata": {},
   "source": [
    "<h4>e) $\\ln x - 1$ dla $x \\approx e$</h4>"
   ]
  },
  {
   "cell_type": "code",
   "execution_count": 10,
   "id": "31bdb9ed-76d2-4dcd-b8d6-5c868114e06a",
   "metadata": {},
   "outputs": [],
   "source": [
    "# calculate naively\n",
    "def e_naive(x):\n",
    "    return np.log(x) - 1\n",
    "\n",
    "# calculate after transforming the equation\n",
    "def e_better(x):\n",
    "    return (x-np.e)/np.e"
   ]
  },
  {
   "cell_type": "markdown",
   "id": "d701e795-cf71-4165-8d78-37734d14c579",
   "metadata": {},
   "source": [
    "Porównanie wartości dla $x = e + 2^{-30}$"
   ]
  },
  {
   "cell_type": "code",
   "execution_count": 11,
   "id": "10a06387-3e1d-4f3a-a484-40d478ee373d",
   "metadata": {},
   "outputs": [
    {
     "name": "stdout",
     "output_type": "stream",
     "text": [
      "Wartość prawdziwa:\t3.4261442824119880e-10\n",
      "Bez przekształcenia:\t3.4261438131011346e-10\n",
      "Po przekształceniu:\t3.4261442829989114e-10\n"
     ]
    }
   ],
   "source": [
    "x = np.e + 2 ** -30\n",
    "print(f\"Wartość prawdziwa:\\t3.4261442824119880e-10\")\n",
    "print(f\"Bez przekształcenia:\\t{e_naive(x)}\")\n",
    "print(f\"Po przekształceniu:\\t{e_better(x)}\")"
   ]
  },
  {
   "cell_type": "markdown",
   "id": "89cd1a59-1e0f-46ed-b725-4783a48f9744",
   "metadata": {},
   "source": [
    "<h4>f) $e^x - e^{-x}$ dla $x \\approx 0$</h4>"
   ]
  },
  {
   "cell_type": "code",
   "execution_count": 12,
   "id": "bfb90819-d716-4b81-9485-9209b7fb6e3d",
   "metadata": {},
   "outputs": [],
   "source": [
    "# calculate naively\n",
    "def f_naive(x):\n",
    "    return np.e**x - np.e**-x\n",
    "\n",
    "# calculate after transforming the equation\n",
    "def f_better(x):\n",
    "    return 2*x"
   ]
  },
  {
   "cell_type": "markdown",
   "id": "40d45eb7-a104-4799-b79c-aae45f1e8e1f",
   "metadata": {},
   "source": [
    "Porównanie wartości dla $x = 2^{-60}$"
   ]
  },
  {
   "cell_type": "code",
   "execution_count": 13,
   "id": "69ba67b5-3336-4866-9e60-81447f60cf7a",
   "metadata": {},
   "outputs": [
    {
     "name": "stdout",
     "output_type": "stream",
     "text": [
      "Wartość prawdziwa:\t1.734723475976807e-18\n",
      "Bez przekształcenia:\t0.0\n",
      "Po przekształceniu:\t1.734723475976807e-18\n"
     ]
    }
   ],
   "source": [
    "x = 2 ** -60\n",
    "print(f\"Wartość prawdziwa:\\t1.734723475976807e-18\")\n",
    "print(f\"Bez przekształcenia:\\t{f_naive(x)}\")\n",
    "print(f\"Po przekształceniu:\\t{f_better(x)}\")"
   ]
  }
 ],
 "metadata": {
  "kernelspec": {
   "display_name": "Python 3 (ipykernel)",
   "language": "python",
   "name": "python3"
  },
  "language_info": {
   "codemirror_mode": {
    "name": "ipython",
    "version": 3
   },
   "file_extension": ".py",
   "mimetype": "text/x-python",
   "name": "python",
   "nbconvert_exporter": "python",
   "pygments_lexer": "ipython3",
   "version": "3.13.1"
  }
 },
 "nbformat": 4,
 "nbformat_minor": 5
}
