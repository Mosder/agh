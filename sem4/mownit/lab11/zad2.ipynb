{
 "cells": [
  {
   "cell_type": "markdown",
   "id": "eb03e460-c6b9-4078-956e-9dca121ab0ab",
   "metadata": {},
   "source": [
    "<h2>Import bibliotek</h2>"
   ]
  },
  {
   "cell_type": "code",
   "execution_count": 1,
   "id": "06610b2a-9786-4dcd-8659-ad09e099899d",
   "metadata": {},
   "outputs": [],
   "source": [
    "import numpy as np\n",
    "import scipy as sp\n",
    "import matplotlib.pyplot as plt\n",
    "import pandas as pd"
   ]
  },
  {
   "cell_type": "markdown",
   "id": "a1ca108f-e757-4a57-8ae2-045297b6e306",
   "metadata": {},
   "source": [
    "Ustawienie ziarna losowości"
   ]
  },
  {
   "cell_type": "code",
   "execution_count": 2,
   "id": "5b47e4ce-7745-485d-9d68-fea5906c1305",
   "metadata": {},
   "outputs": [],
   "source": [
    "np.random.seed(1234)"
   ]
  },
  {
   "cell_type": "markdown",
   "id": "3ed69e7a-6819-4978-8a31-58216cf155df",
   "metadata": {},
   "source": [
    "<h2>Zadanie 2.</h2>"
   ]
  },
  {
   "cell_type": "markdown",
   "id": "a8e3e447-3b0d-41e1-9f17-5597ef9c028e",
   "metadata": {},
   "source": [
    "<h3>Funkcja do optymalizacji</h3>"
   ]
  },
  {
   "cell_type": "markdown",
   "id": "c59fc165-e758-4e9f-b46d-068e931b221e",
   "metadata": {},
   "source": [
    "<h3>$F(x^{(0)},x^{(1)},...,x^{(n)}) = \\lambda_1\\sum_{i=0}^n\\sum_{j=1}^k\\frac{1}{\\epsilon+||x^{(i)}-r^{(j)}||^2_2} + \\lambda_2\\sum_{i=0}^{n-1}||x^{(i+1)}-x^{(i)}||^2_2$</h3>"
   ]
  },
  {
   "cell_type": "markdown",
   "id": "5b8fe9ef-768e-4261-9ead-63a4d4606a3d",
   "metadata": {},
   "source": [
    "<h4>$x^{(i)} \\in \\mathbb{R}^2$ - punkty ścieżki, $i=0,...,n$</h4>"
   ]
  },
  {
   "cell_type": "markdown",
   "id": "54089cef-757c-4424-aea5-553ddbfa17d7",
   "metadata": {},
   "source": [
    "<h4>$x^{(0)}$ oraz $x^{(n)}$ to początek i koniec ścieżki - są stałe</h4>"
   ]
  },
  {
   "cell_type": "markdown",
   "id": "9aeca6bc-2aae-4ea6-bb91-aba74c309299",
   "metadata": {},
   "source": [
    "<h4>$r^{(i)} \\in \\mathbb{R}^2$ - przeszkody, $i=1,...,k$</h4>"
   ]
  },
  {
   "cell_type": "markdown",
   "id": "fc8c7959-cb59-4d9f-acca-552b7082a72c",
   "metadata": {},
   "source": [
    "<h4>$\\lambda_1$ - waga składnika zapobiegającego zbytniemu zbliżaniu się do przeszkody</h4>"
   ]
  },
  {
   "cell_type": "markdown",
   "id": "7812d14f-3e9b-48b5-bb5e-8e5a57b87e50",
   "metadata": {},
   "source": [
    "<h4>$\\lambda_2$ - waga składnika zapobiegającego tworzeniu bardzo długich ścieżek</h4>"
   ]
  },
  {
   "cell_type": "markdown",
   "id": "5c130a55-6bc5-4798-b2ab-4b74b98d368d",
   "metadata": {},
   "source": [
    "<h4>$\\epsilon$ - zapobiega dzieleniu przez 0</h4>"
   ]
  },
  {
   "cell_type": "markdown",
   "id": "ae3be56b-4c3c-409f-b486-85d009634677",
   "metadata": {},
   "source": [
    "Definicja parametrów"
   ]
  },
  {
   "cell_type": "code",
   "execution_count": 5,
   "id": "f0de18bf-0a26-461b-9e9c-def3da26271b",
   "metadata": {},
   "outputs": [],
   "source": [
    "# define parameters\n",
    "n = 20\n",
    "k = 50\n",
    "x0 = np.array([[0, 0]])\n",
    "xn = np.array([[20, 20]])\n",
    "start_xs = []\n",
    "for i in range(5):\n",
    "    xs = np.append(x0, np.random.uniform(0, 20, (n-1, 2)), axis=0)\n",
    "    start_xs.append(np.append(xs, xn, axis=0))\n",
    "rs = np.random.uniform(0, 20, (k, 2))\n",
    "l1 = 1\n",
    "l2 = 1\n",
    "eps = 1e-13\n",
    "iters = 400"
   ]
  }
 ],
 "metadata": {
  "kernelspec": {
   "display_name": "Python 3 (ipykernel)",
   "language": "python",
   "name": "python3"
  },
  "language_info": {
   "codemirror_mode": {
    "name": "ipython",
    "version": 3
   },
   "file_extension": ".py",
   "mimetype": "text/x-python",
   "name": "python",
   "nbconvert_exporter": "python",
   "pygments_lexer": "ipython3",
   "version": "3.13.2"
  }
 },
 "nbformat": 4,
 "nbformat_minor": 5
}
