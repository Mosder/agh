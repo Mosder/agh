{
 "cells": [
  {
   "cell_type": "markdown",
   "id": "eb03e460-c6b9-4078-956e-9dca121ab0ab",
   "metadata": {},
   "source": [
    "<h2>Import bibliotek</h2>"
   ]
  },
  {
   "cell_type": "code",
   "execution_count": 1,
   "id": "06610b2a-9786-4dcd-8659-ad09e099899d",
   "metadata": {},
   "outputs": [],
   "source": [
    "import numpy as np\n",
    "import scipy as sp\n",
    "import matplotlib.pyplot as plt\n",
    "import pandas as pd"
   ]
  },
  {
   "cell_type": "markdown",
   "id": "a1ca108f-e757-4a57-8ae2-045297b6e306",
   "metadata": {},
   "source": [
    "Ustawienie ziarna losowości"
   ]
  },
  {
   "cell_type": "code",
   "execution_count": 2,
   "id": "5b47e4ce-7745-485d-9d68-fea5906c1305",
   "metadata": {},
   "outputs": [],
   "source": [
    "np.random.seed(1234)"
   ]
  },
  {
   "cell_type": "markdown",
   "id": "3ed69e7a-6819-4978-8a31-58216cf155df",
   "metadata": {},
   "source": [
    "<h2>Zadanie 2.</h2>"
   ]
  },
  {
   "cell_type": "markdown",
   "id": "a8e3e447-3b0d-41e1-9f17-5597ef9c028e",
   "metadata": {},
   "source": [
    "<h3>Funkcja do optymalizacji</h3>"
   ]
  },
  {
   "cell_type": "markdown",
   "id": "c59fc165-e758-4e9f-b46d-068e931b221e",
   "metadata": {},
   "source": [
    "<h3>$F(x^{(0)},x^{(1)},...,x^{(n)}) = \\lambda_1\\sum_{i=0}^n\\sum_{j=1}^k\\frac{1}{\\epsilon+||x^{(i)}-r^{(j)}||^2_2} + \\lambda_2\\sum_{i=0}^{n-1}||x^{(i+1)}-x^{(i)}||^2_2$</h3>"
   ]
  },
  {
   "cell_type": "markdown",
   "id": "5b8fe9ef-768e-4261-9ead-63a4d4606a3d",
   "metadata": {},
   "source": [
    "<h4>$x^{(i)} \\in \\mathbb{R}^2$ - punkty ścieżki, $i=0,...,n$</h4>"
   ]
  },
  {
   "cell_type": "markdown",
   "id": "54089cef-757c-4424-aea5-553ddbfa17d7",
   "metadata": {},
   "source": [
    "<h4>$x^{(0)}$ oraz $x^{(n)}$ to początek i koniec ścieżki - są stałe</h4>"
   ]
  },
  {
   "cell_type": "markdown",
   "id": "9aeca6bc-2aae-4ea6-bb91-aba74c309299",
   "metadata": {},
   "source": [
    "<h4>$r^{(i)} \\in \\mathbb{R}^2$ - przeszkody, $i=1,...,k$</h4>"
   ]
  },
  {
   "cell_type": "markdown",
   "id": "fc8c7959-cb59-4d9f-acca-552b7082a72c",
   "metadata": {},
   "source": [
    "<h4>$\\lambda_1$ - waga składnika zapobiegającego zbytniemu zbliżaniu się do przeszkody</h4>"
   ]
  },
  {
   "cell_type": "markdown",
   "id": "7812d14f-3e9b-48b5-bb5e-8e5a57b87e50",
   "metadata": {},
   "source": [
    "<h4>$\\lambda_2$ - waga składnika zapobiegającego tworzeniu bardzo długich ścieżek</h4>"
   ]
  },
  {
   "cell_type": "markdown",
   "id": "5c130a55-6bc5-4798-b2ab-4b74b98d368d",
   "metadata": {},
   "source": [
    "<h4>$\\epsilon$ - zapobiega dzieleniu przez 0</h4>"
   ]
  },
  {
   "cell_type": "markdown",
   "id": "ae3be56b-4c3c-409f-b486-85d009634677",
   "metadata": {},
   "source": [
    "Definicja parametrów"
   ]
  },
  {
   "cell_type": "code",
   "execution_count": 3,
   "id": "f0de18bf-0a26-461b-9e9c-def3da26271b",
   "metadata": {},
   "outputs": [],
   "source": [
    "# define parameters\n",
    "n = 20\n",
    "k = 50\n",
    "x0 = np.array([[0, 0]])\n",
    "xn = np.array([[20, 20]])\n",
    "start_xs = []\n",
    "for i in range(5):\n",
    "    xs = np.append(x0, np.random.uniform(0, 20, (n-1, 2)), axis=0)\n",
    "    start_xs.append(np.append(xs, xn, axis=0))\n",
    "rs = np.random.uniform(0, 20, (k, 2))\n",
    "l1 = 1\n",
    "l2 = 1\n",
    "eps = 1e-13\n",
    "iters = 400"
   ]
  },
  {
   "cell_type": "markdown",
   "id": "b16afd02-a36b-485d-a166-5fe8933d4854",
   "metadata": {},
   "source": [
    "Definicja funkcji kosztu"
   ]
  },
  {
   "cell_type": "code",
   "execution_count": 4,
   "id": "0db58cd5-ffa1-4dd1-b3c5-dce4a2b35ce6",
   "metadata": {},
   "outputs": [],
   "source": [
    "# define cost function\n",
    "def cost(n, k, xs, rs, l1, l2, eps):\n",
    "    # first sum\n",
    "    sum1 = 0\n",
    "    for i in range(n+1):\n",
    "        for j in range(k):\n",
    "            sum1 += 1/(eps + np.linalg.norm(xs[i]-rs[j])**2)\n",
    "\n",
    "    # second sum\n",
    "    sum2 = 0\n",
    "    for i in range(n):\n",
    "        sum2 += np.linalg.norm(xs[i+1]-xs[i])**2\n",
    "\n",
    "    # return sums multiplied by given weights\n",
    "    return l1*sum1 + l2*sum2\n",
    "\n",
    "# define cost with given parameters\n",
    "F = lambda xs: cost(n, k, xs, rs, l1, l2, eps)"
   ]
  },
  {
   "cell_type": "markdown",
   "id": "43ae7f94-aed6-4fc3-9613-4a2fbeb65dbc",
   "metadata": {},
   "source": [
    "Definicja gradientu funkcji"
   ]
  },
  {
   "cell_type": "code",
   "execution_count": 5,
   "id": "a25a4f20-b200-4e9d-9d71-e430c7803af5",
   "metadata": {},
   "outputs": [],
   "source": [
    "# define gradient of function\n",
    "def gradient(n, k, xs, rs, l1, l2, eps):\n",
    "    grad = np.zeros((n+1,2))\n",
    "\n",
    "    # ignore x0 and xn, because they're constant\n",
    "    for i in range(1, n):\n",
    "        for j in range(k):\n",
    "            grad[i] += (xs[i] - rs[j]) / (eps + np.linalg.norm(xs[i]-rs[j])**2)**2\n",
    "        grad[i] *= -2*l1\n",
    "        grad[i] += -2*l2*(xs[i+1]-xs[i])\n",
    "        grad[i] += 2*l2*(xs[i]-xs[i-1])\n",
    "\n",
    "    return grad\n",
    "\n",
    "# define gradient with given parameters\n",
    "F_grad = lambda xs: gradient(n, k, xs, rs, l1, l2, eps)"
   ]
  },
  {
   "cell_type": "markdown",
   "id": "1fb70866-aa45-4402-82fd-e1b63112031b",
   "metadata": {},
   "source": [
    "Defnicja funkcji spadku wzdłuż gradientu"
   ]
  },
  {
   "cell_type": "code",
   "execution_count": 6,
   "id": "3f2e519b-e8b4-46c6-8e09-50f8a9600e5e",
   "metadata": {},
   "outputs": [],
   "source": [
    "# gradient descent function\n",
    "def gd(xs, cost, gradient, iters, tolerance):\n",
    "    costs = [cost(xs)]\n",
    "    for i in range(iters):\n",
    "        grad = gradient(xs)\n",
    "        lr = sp.optimize.golden(lambda alpha: cost(xs + alpha*grad))\n",
    "        xs += lr*grad\n",
    "        costs.append(cost(xs))\n",
    "        # stop if improvement less than tolerance\n",
    "        if np.abs(costs[-2] - costs[-1]) < tolerance:\n",
    "            break\n",
    "    return xs, costs"
   ]
  },
  {
   "cell_type": "markdown",
   "id": "fe8960d1-ad64-4b1c-a439-b135f58ba109",
   "metadata": {},
   "source": [
    "Obliczenie wyników dla startowych zbiorów punktów x"
   ]
  },
  {
   "cell_type": "code",
   "execution_count": null,
   "id": "6fbdbe73-f03d-4998-8acb-0efa4d06609a",
   "metadata": {},
   "outputs": [],
   "source": [
    "# optimize path for all starting xs\n",
    "results = [gd(xs, F, F_grad, iters, eps) for xs in start_xs]"
   ]
  },
  {
   "cell_type": "markdown",
   "id": "21729941-fe96-4467-852b-8d7830d8c880",
   "metadata": {},
   "source": [
    "Narysowanie wykresu kosztu w zależności od iteracji"
   ]
  },
  {
   "cell_type": "code",
   "execution_count": null,
   "id": "f2a434ac-87d8-4b63-90a9-b40e21c4267a",
   "metadata": {},
   "outputs": [],
   "source": [
    "# set iters\n",
    "its = np.arange(0, 401, 1)\n",
    "# set figsize\n",
    "plt.figure(figsize=(12,8))\n",
    "# add title and labels\n",
    "plt.title(rf\"Values of cost function for different starting xs\")\n",
    "plt.xlabel(\"iters\")\n",
    "plt.ylabel(\"cost\")\n",
    "# plot function and tangents\n",
    "for i, result in enumerate(results):\n",
    "    plt.plot(its, result[1], label=f\"{i+1}. starting xs\")\n",
    "# show with legend\n",
    "plt.legend()\n",
    "plt.grid()\n",
    "plt.show()"
   ]
  }
 ],
 "metadata": {
  "kernelspec": {
   "display_name": "Python 3 (ipykernel)",
   "language": "python",
   "name": "python3"
  },
  "language_info": {
   "codemirror_mode": {
    "name": "ipython",
    "version": 3
   },
   "file_extension": ".py",
   "mimetype": "text/x-python",
   "name": "python",
   "nbconvert_exporter": "python",
   "pygments_lexer": "ipython3",
   "version": "3.13.3"
  }
 },
 "nbformat": 4,
 "nbformat_minor": 5
}
