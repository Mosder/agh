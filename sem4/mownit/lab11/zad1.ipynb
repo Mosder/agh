{
 "cells": [
  {
   "cell_type": "markdown",
   "id": "eb03e460-c6b9-4078-956e-9dca121ab0ab",
   "metadata": {},
   "source": [
    "<h2>Import bibliotek</h2>"
   ]
  },
  {
   "cell_type": "code",
   "execution_count": 1,
   "id": "06610b2a-9786-4dcd-8659-ad09e099899d",
   "metadata": {},
   "outputs": [],
   "source": [
    "import numpy as np\n",
    "import matplotlib.pyplot as plt\n",
    "import pandas as pd\n",
    "import scipy as sp\n",
    "from time import time"
   ]
  },
  {
   "cell_type": "markdown",
   "id": "3ed69e7a-6819-4978-8a31-58216cf155df",
   "metadata": {},
   "source": [
    "<h2>Zadanie 1.</h2>"
   ]
  },
  {
   "cell_type": "markdown",
   "id": "58ddbfd0-f672-4882-b716-fb9d96e2d8be",
   "metadata": {},
   "source": [
    "<h3>Wczytanie zbiorów</h3>"
   ]
  },
  {
   "cell_type": "code",
   "execution_count": 2,
   "id": "dcff120c-8764-411e-a07f-591f2f15c578",
   "metadata": {},
   "outputs": [],
   "source": [
    "# read names of columns\n",
    "column_names = [arr[0] for arr in pd.io.parsers.read_csv(\"things/dataset/breast-cancer.labels\", header = None).values.tolist()]\n",
    "\n",
    "# read training data\n",
    "data_training = pd.io.parsers.read_csv(\"things/dataset/breast-cancer-train.dat\", header = None, names=column_names)\n",
    "\n",
    "# read validation data\n",
    "data_validation = pd.io.parsers.read_csv(\"things/dataset/breast-cancer-validate.dat\", header = None, names=column_names)"
   ]
  },
  {
   "cell_type": "markdown",
   "id": "7bdf1cc5-a9af-4f9e-abec-5678514e6653",
   "metadata": {},
   "source": [
    "<h3>Macierze danych</h3>"
   ]
  },
  {
   "cell_type": "code",
   "execution_count": 3,
   "id": "9b012788-c5cb-49aa-824a-f780a04841c1",
   "metadata": {},
   "outputs": [],
   "source": [
    "# Training data matrix\n",
    "training_matrix = data_training.drop([\"patient ID\", \"Malignant/Benign\"], axis=\"columns\").values\n",
    "\n",
    "# Validation data matrix\n",
    "validation_matrix = data_validation.drop([\"patient ID\", \"Malignant/Benign\"], axis=\"columns\").values"
   ]
  },
  {
   "cell_type": "markdown",
   "id": "124b6476-c963-4f63-96b3-be5c7a583456",
   "metadata": {},
   "source": [
    "<h3>Utworzenie wektora <b>b</b> z informacjami nt. typu raka dla zbiorów danych</h3>"
   ]
  },
  {
   "cell_type": "code",
   "execution_count": 4,
   "id": "659e35e8-f1d8-4874-93d7-8841dc81b4d6",
   "metadata": {},
   "outputs": [],
   "source": [
    "# Cancer type vector for training data\n",
    "data_training_type_vector = np.where(data_training[\"Malignant/Benign\"] == \"M\", 1, -1)\n",
    "\n",
    "# Cancer type vector for validation data\n",
    "data_validation_type_vector = np.where(data_validation[\"Malignant/Benign\"] == \"M\", 1, -1)"
   ]
  },
  {
   "cell_type": "markdown",
   "id": "eda0c5d3-3566-4424-bcf1-04515d51b013",
   "metadata": {},
   "source": [
    "<h3>Funkcja spadku wzdłuż gradientu</h3>"
   ]
  },
  {
   "cell_type": "code",
   "execution_count": 5,
   "id": "f332f12e-7fe8-4bc7-931c-fa30adc042c4",
   "metadata": {},
   "outputs": [],
   "source": [
    "# gradient descent function\n",
    "def gradient_descent(A, x0, y, steps):\n",
    "    AT = A.T\n",
    "    ATA = AT@A\n",
    "    eigenvalues, _ = np.linalg.eig(ATA)\n",
    "    lr = 1 / (np.min(eigenvalues) + np.max(eigenvalues))\n",
    "    c1 = np.identity(AT.shape[0]) - lr*2*ATA\n",
    "    c0 = lr * 2*AT@y\n",
    "    xk = x0\n",
    "    for _ in range(steps):\n",
    "        xk = c1@xk + c0\n",
    "    return xk"
   ]
  },
  {
   "cell_type": "markdown",
   "id": "609eeccb-922f-4007-b097-d584ffdc9dbb",
   "metadata": {},
   "source": [
    "<h3>Funkcja wyświetlająca wynik</h3>"
   ]
  },
  {
   "cell_type": "code",
   "execution_count": 6,
   "id": "637b5339-e1cb-4719-be97-7b5cd72765b7",
   "metadata": {},
   "outputs": [],
   "source": [
    "def print_result(val_matrix, weights, val_vector, tm):\n",
    "    dot_product = val_matrix @ weights\n",
    "    predicted_values = np.where(dot_product > 0, 1, -1)\n",
    "    TP = np.sum((predicted_values == 1) & (val_vector == 1))\n",
    "    TN = np.sum((predicted_values == -1) & (val_vector == -1))\n",
    "    FP = np.sum((predicted_values == 1) & (val_vector == -1))\n",
    "    FN = np.sum((predicted_values == -1) & (val_vector == 1))\n",
    "    acc = (TP+TN) / (TP+TN+FP+FN)\n",
    "    # print out result\n",
    "    print(\"\\t\\t\\tActually positive:\\tActually negative:\")\n",
    "    print(f\"Predicted positive:\\tTP - {TP}\\t\\t\\tFP - {FP}\")\n",
    "    print(f\"Predicted negative:\\tFN - {FN}\\t\\t\\tTN - {TN}\")\n",
    "    print(f\"\\tAccuracy: {\"{:.3f}\".format(100*acc)}%\")\n",
    "    print(f\"\\tTime: {\"{:.6f}\".format(tm)}s\")"
   ]
  },
  {
   "cell_type": "markdown",
   "id": "e8232620-b27e-4f8f-8067-952e4a8f6d8a",
   "metadata": {},
   "source": [
    "<h3>Obliczenie wyników</h3>"
   ]
  },
  {
   "cell_type": "code",
   "execution_count": 7,
   "id": "14b8a940-d643-4d9a-8ab3-260b45e0296d",
   "metadata": {},
   "outputs": [],
   "source": [
    "# calculate weights using gradient descent\n",
    "t0 = time()\n",
    "gd_weights = gradient_descent(training_matrix, np.zeros(30), data_training_type_vector, 5000)\n",
    "t1 = time()\n",
    "gd_time = t1 - t0\n",
    "# calculate weights using least squares\n",
    "t0 = time()\n",
    "ls_weights = np.linalg.solve(\n",
    "    training_matrix.T @ training_matrix, training_matrix.T @ data_training_type_vector\n",
    ");\n",
    "t1 = time()\n",
    "ls_time = t1 - t0"
   ]
  },
  {
   "cell_type": "markdown",
   "id": "64b73bb3-a602-430c-9958-8e49fa62d7e2",
   "metadata": {},
   "source": [
    "<h3>Wyświetlenie wyników</h3>"
   ]
  },
  {
   "cell_type": "code",
   "execution_count": 8,
   "id": "e48b5264-17ac-4b6e-b26c-963811bd3020",
   "metadata": {},
   "outputs": [
    {
     "name": "stdout",
     "output_type": "stream",
     "text": [
      "Gradient descent:\n",
      "\t\t\tActually positive:\tActually negative:\n",
      "Predicted positive:\tTP - 38\t\t\tFP - 0\n",
      "Predicted negative:\tFN - 22\t\t\tTN - 200\n",
      "\tAccuracy: 91.538%\n",
      "\tTime: 0.010647s\n",
      "\n",
      "Least squares:\n",
      "\t\t\tActually positive:\tActually negative:\n",
      "Predicted positive:\tTP - 58\t\t\tFP - 6\n",
      "Predicted negative:\tFN - 2\t\t\tTN - 194\n",
      "\tAccuracy: 96.923%\n",
      "\tTime: 0.000169s\n"
     ]
    }
   ],
   "source": [
    "# print gradient descent results\n",
    "print(\"Gradient descent:\")\n",
    "print_result(validation_matrix, gd_weights, data_validation_type_vector, gd_time)\n",
    "# print least squares results\n",
    "print(\"\\nLeast squares:\")\n",
    "print_result(validation_matrix, ls_weights, data_validation_type_vector, ls_time)"
   ]
  }
 ],
 "metadata": {
  "kernelspec": {
   "display_name": "Python 3 (ipykernel)",
   "language": "python",
   "name": "python3"
  },
  "language_info": {
   "codemirror_mode": {
    "name": "ipython",
    "version": 3
   },
   "file_extension": ".py",
   "mimetype": "text/x-python",
   "name": "python",
   "nbconvert_exporter": "python",
   "pygments_lexer": "ipython3",
   "version": "3.13.2"
  }
 },
 "nbformat": 4,
 "nbformat_minor": 5
}
