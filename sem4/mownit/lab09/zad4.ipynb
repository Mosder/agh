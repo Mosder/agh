{
 "cells": [
  {
   "cell_type": "markdown",
   "id": "eb03e460-c6b9-4078-956e-9dca121ab0ab",
   "metadata": {},
   "source": [
    "<h2>Import bibliotek</h2>"
   ]
  },
  {
   "cell_type": "code",
   "execution_count": 1,
   "id": "06610b2a-9786-4dcd-8659-ad09e099899d",
   "metadata": {},
   "outputs": [],
   "source": [
    "import numpy as np\n",
    "import scipy as sp\n",
    "import matplotlib.pyplot as plt\n",
    "import pandas as pd"
   ]
  },
  {
   "cell_type": "markdown",
   "id": "3ed69e7a-6819-4978-8a31-58216cf155df",
   "metadata": {},
   "source": [
    "<h2>Zadanie 4.</h2>"
   ]
  },
  {
   "cell_type": "markdown",
   "id": "c59fc165-e758-4e9f-b46d-068e931b221e",
   "metadata": {},
   "source": [
    "<h3>$y' = -5y$</h3>"
   ]
  },
  {
   "cell_type": "markdown",
   "id": "7d365fc3-563e-45b2-bb7c-eb95a50e7b35",
   "metadata": {},
   "source": [
    "<h3>$y(0) = 1$</h3>"
   ]
  },
  {
   "cell_type": "markdown",
   "id": "57046f8d-4822-4c8c-a447-b68088aa6bbd",
   "metadata": {},
   "source": [
    "<h3>$h = 0.5$</h3>"
   ]
  },
  {
   "cell_type": "markdown",
   "id": "90186c23-26a5-42cc-9611-8d988ed588e5",
   "metadata": {},
   "source": [
    "<h3>Solution: $y(t) = e^{-5t}$</h3>"
   ]
  },
  {
   "cell_type": "code",
   "execution_count": 2,
   "id": "87eec7e9-0b49-4f9f-b63b-683fb0dd42f6",
   "metadata": {},
   "outputs": [],
   "source": [
    "# define derivative\n",
    "def dy(y):\n",
    "    return -5*y\n",
    "\n",
    "# define t0, y0 and h\n",
    "t0 = 0\n",
    "y0 = 1\n",
    "h = 0.5\n",
    "\n",
    "# define solution\n",
    "def y(t):\n",
    "    return np.exp(-5*t)"
   ]
  },
  {
   "cell_type": "markdown",
   "id": "4e051088-54fd-4969-89ea-0d0d6ab68601",
   "metadata": {},
   "source": [
    "Definicja metod Eulera"
   ]
  },
  {
   "cell_type": "markdown",
   "id": "f083da9d-c2cf-466f-8a2c-cb0c4abf3282",
   "metadata": {},
   "source": [
    "Explicit: $y_{n+1} = y_n - 5hy_n = y_n(1-5h)$"
   ]
  },
  {
   "cell_type": "markdown",
   "id": "e6cef32e-cb2c-4798-ae56-3a086e233a4f",
   "metadata": {},
   "source": [
    "Implicit: $y_{n+1} = y_n - 5hy_{n+1} \\implies y_{n+1} = \\frac{y_n}{1+5h}$"
   ]
  },
  {
   "cell_type": "code",
   "execution_count": 3,
   "id": "450910d9-7528-438f-a706-5cb6e8bf52d2",
   "metadata": {},
   "outputs": [],
   "source": [
    "def euler_explicit(t0, t_end, y0, h):\n",
    "    ts = [t0]\n",
    "    ys = [y0]\n",
    "    while ts[-1] < t_end:\n",
    "        ys.append(ys[-1] * (1-5*h))\n",
    "        ts.append(ts[-1] + h)\n",
    "    return ts, ys\n",
    "\n",
    "def euler_implicit(t0, t_end, y0, h):\n",
    "    ts = [t0]\n",
    "    ys = [y0]\n",
    "    while ts[-1] < t_end:\n",
    "        ys.append(ys[-1] / (1+5*h))\n",
    "        ts.append(ts[-1] + h)\n",
    "    return ts, ys"
   ]
  },
  {
   "cell_type": "markdown",
   "id": "86a17fa4-f781-463c-89e3-dc6f6edccfc2",
   "metadata": {},
   "source": [
    "Wartości dla $t=0.5$"
   ]
  },
  {
   "cell_type": "code",
   "execution_count": 4,
   "id": "010f2dbb-e650-4243-a532-d5e4f30265fc",
   "metadata": {},
   "outputs": [
    {
     "name": "stdout",
     "output_type": "stream",
     "text": [
      "Expected: 0.0820849986238988\n",
      "Euler explicit: -1.5\n",
      "Euler implicit: 0.2857142857142857\n"
     ]
    }
   ],
   "source": [
    "print(f\"Expected: {y(0.5)}\")\n",
    "print(f\"Euler explicit: {euler_explicit(t0, 0.5, y0, h)[1][-1]}\")\n",
    "print(f\"Euler implicit: {euler_implicit(t0, 0.5, y0, h)[1][-1]}\")"
   ]
  },
  {
   "cell_type": "markdown",
   "id": "79e23512-73d6-4dd7-9c54-15734171e6c4",
   "metadata": {},
   "source": [
    "Funkcja obliczająca maksymalny krok $h$ by uzyskać wynik w danej tolerancji dla danego $t$"
   ]
  },
  {
   "cell_type": "code",
   "execution_count": 5,
   "id": "44e486f8-1d3e-4fad-98e8-70a7ffec7a05",
   "metadata": {},
   "outputs": [],
   "source": [
    "# function for determining max h for euler methods\n",
    "def max_h(t, tolerance, implicit=False):\n",
    "    euler = euler_explicit\n",
    "    if implicit:\n",
    "        euler = euler_implicit\n",
    "    expected = y(t)\n",
    "    euler_val = euler(t0, t, y0, t)[1][-1]\n",
    "    steps = 1\n",
    "    # double amount of steps until good tolerance\n",
    "    while np.abs(expected - euler_val) >= tolerance:\n",
    "        steps *= 2\n",
    "        euler_val = euler(t0, t, y0, t/steps)[1][-1]\n",
    "    # decrease steps until tolerance edge reached\n",
    "    while np.abs(expected - euler_val) < tolerance:\n",
    "        steps -= 1\n",
    "        euler_val = euler(t0, t, y0, t/steps)[1][-1]\n",
    "    # increment steps to get good tolerance\n",
    "    steps += 1\n",
    "    euler_val = euler(t0, t, y0, t/steps)[1][-1]\n",
    "    # return h_max, steps, value at t and error\n",
    "    return t/steps, steps, euler_val, np.abs(expected - euler_val)"
   ]
  },
  {
   "cell_type": "markdown",
   "id": "30c9b564-f236-4dc4-af12-a1076ec4e622",
   "metadata": {},
   "source": [
    "Maksymalny krok $h$, by dla $t = 0.5$ błąd nie przekraczał $0.001$"
   ]
  },
  {
   "cell_type": "code",
   "execution_count": 6,
   "id": "36ee8910-aede-4267-8b59-07c53f102248",
   "metadata": {},
   "outputs": [],
   "source": [
    "# define t and tolerance\n",
    "t = 0.5\n",
    "tolerance = 0.001\n",
    "# expected value\n",
    "expected = y(t)\n",
    "# run max_h for t = 0.5 and tolerance = 0.001 for both eulers\n",
    "ex_results = max_h(t, tolerance)\n",
    "im_results = max_h(t, tolerance, True)"
   ]
  },
  {
   "cell_type": "markdown",
   "id": "67b8a173-b206-4d31-8c39-52ef40558e7c",
   "metadata": {},
   "source": [
    "Wypisanie wyników"
   ]
  },
  {
   "cell_type": "code",
   "execution_count": 24,
   "id": "ce700d73-b9b2-499c-bfd0-24933000b364",
   "metadata": {},
   "outputs": [
    {
     "name": "stdout",
     "output_type": "stream",
     "text": [
      "Expected value: y(0.5) = 0.0820849986238988\n"
     ]
    },
    {
     "data": {
      "text/html": [
       "<div>\n",
       "<style scoped>\n",
       "    .dataframe tbody tr th:only-of-type {\n",
       "        vertical-align: middle;\n",
       "    }\n",
       "\n",
       "    .dataframe tbody tr th {\n",
       "        vertical-align: top;\n",
       "    }\n",
       "\n",
       "    .dataframe thead th {\n",
       "        text-align: right;\n",
       "    }\n",
       "</style>\n",
       "<table border=\"1\" class=\"dataframe\">\n",
       "  <thead>\n",
       "    <tr style=\"text-align: right;\">\n",
       "      <th></th>\n",
       "      <th>$h_{max}$</th>\n",
       "      <th>steps taken</th>\n",
       "      <th>value at 0.5</th>\n",
       "      <th>abs(err)</th>\n",
       "    </tr>\n",
       "  </thead>\n",
       "  <tbody>\n",
       "    <tr>\n",
       "      <th>Euler explicit</th>\n",
       "      <td>0.001085</td>\n",
       "      <td>461</td>\n",
       "      <td>0.081086</td>\n",
       "      <td>0.000999</td>\n",
       "    </tr>\n",
       "    <tr>\n",
       "      <th>Euler implicit</th>\n",
       "      <td>0.001946</td>\n",
       "      <td>257</td>\n",
       "      <td>0.082282</td>\n",
       "      <td>0.000197</td>\n",
       "    </tr>\n",
       "  </tbody>\n",
       "</table>\n",
       "</div>"
      ],
      "text/plain": [
       "                $h_{max}$  steps taken  value at 0.5  abs(err)\n",
       "Euler explicit   0.001085          461      0.081086  0.000999\n",
       "Euler implicit   0.001946          257      0.082282  0.000197"
      ]
     },
     "execution_count": 24,
     "metadata": {},
     "output_type": "execute_result"
    }
   ],
   "source": [
    "print(f\"Expected value: y({t}) = {expected}\")\n",
    "pd.DataFrame(\n",
    "    data=[ex_results, im_results],\n",
    "    columns=[r\"$h_{max}$\", \"steps taken\", f\"value at {t}\", \"abs(err)\"],\n",
    "    index=[\"Euler explicit\", \"Euler implicit\"]\n",
    ")"
   ]
  }
 ],
 "metadata": {
  "kernelspec": {
   "display_name": "Python 3 (ipykernel)",
   "language": "python",
   "name": "python3"
  },
  "language_info": {
   "codemirror_mode": {
    "name": "ipython",
    "version": 3
   },
   "file_extension": ".py",
   "mimetype": "text/x-python",
   "name": "python",
   "nbconvert_exporter": "python",
   "pygments_lexer": "ipython3",
   "version": "3.13.2"
  }
 },
 "nbformat": 4,
 "nbformat_minor": 5
}
