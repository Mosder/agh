{
 "cells": [
  {
   "cell_type": "markdown",
   "id": "eb03e460-c6b9-4078-956e-9dca121ab0ab",
   "metadata": {},
   "source": [
    "<h2>Import bibliotek</h2>"
   ]
  },
  {
   "cell_type": "code",
   "execution_count": 1,
   "id": "06610b2a-9786-4dcd-8659-ad09e099899d",
   "metadata": {},
   "outputs": [],
   "source": [
    "import numpy as np\n",
    "import matplotlib.pyplot as plt\n",
    "import pandas as pd"
   ]
  },
  {
   "cell_type": "markdown",
   "id": "3ed69e7a-6819-4978-8a31-58216cf155df",
   "metadata": {},
   "source": [
    "<h2>Zadanie</h2>"
   ]
  },
  {
   "cell_type": "markdown",
   "id": "ef30a5cf-5eb6-41d1-9784-8455dd19a362",
   "metadata": {},
   "source": [
    "Wczytanie zbioru danych populacji"
   ]
  },
  {
   "cell_type": "code",
   "execution_count": 2,
   "id": "9d068fc6-35be-45fe-a891-162c447082d0",
   "metadata": {},
   "outputs": [
    {
     "data": {
      "text/html": [
       "<div>\n",
       "<style scoped>\n",
       "    .dataframe tbody tr th:only-of-type {\n",
       "        vertical-align: middle;\n",
       "    }\n",
       "\n",
       "    .dataframe tbody tr th {\n",
       "        vertical-align: top;\n",
       "    }\n",
       "\n",
       "    .dataframe thead th {\n",
       "        text-align: right;\n",
       "    }\n",
       "</style>\n",
       "<table border=\"1\" class=\"dataframe\">\n",
       "  <thead>\n",
       "    <tr style=\"text-align: right;\">\n",
       "      <th></th>\n",
       "      <th>year</th>\n",
       "      <th>population</th>\n",
       "    </tr>\n",
       "  </thead>\n",
       "  <tbody>\n",
       "    <tr>\n",
       "      <th>0</th>\n",
       "      <td>1900</td>\n",
       "      <td>76212168</td>\n",
       "    </tr>\n",
       "    <tr>\n",
       "      <th>1</th>\n",
       "      <td>1910</td>\n",
       "      <td>92228496</td>\n",
       "    </tr>\n",
       "    <tr>\n",
       "      <th>2</th>\n",
       "      <td>1920</td>\n",
       "      <td>106021537</td>\n",
       "    </tr>\n",
       "    <tr>\n",
       "      <th>3</th>\n",
       "      <td>1930</td>\n",
       "      <td>123202624</td>\n",
       "    </tr>\n",
       "    <tr>\n",
       "      <th>4</th>\n",
       "      <td>1940</td>\n",
       "      <td>132164569</td>\n",
       "    </tr>\n",
       "    <tr>\n",
       "      <th>5</th>\n",
       "      <td>1950</td>\n",
       "      <td>151325798</td>\n",
       "    </tr>\n",
       "    <tr>\n",
       "      <th>6</th>\n",
       "      <td>1960</td>\n",
       "      <td>179323175</td>\n",
       "    </tr>\n",
       "    <tr>\n",
       "      <th>7</th>\n",
       "      <td>1970</td>\n",
       "      <td>203302031</td>\n",
       "    </tr>\n",
       "    <tr>\n",
       "      <th>8</th>\n",
       "      <td>1980</td>\n",
       "      <td>226542199</td>\n",
       "    </tr>\n",
       "    <tr>\n",
       "      <th>9</th>\n",
       "      <td>1990</td>\n",
       "      <td>248709873</td>\n",
       "    </tr>\n",
       "  </tbody>\n",
       "</table>\n",
       "</div>"
      ],
      "text/plain": [
       "   year  population\n",
       "0  1900    76212168\n",
       "1  1910    92228496\n",
       "2  1920   106021537\n",
       "3  1930   123202624\n",
       "4  1940   132164569\n",
       "5  1950   151325798\n",
       "6  1960   179323175\n",
       "7  1970   203302031\n",
       "8  1980   226542199\n",
       "9  1990   248709873"
      ]
     },
     "execution_count": 2,
     "metadata": {},
     "output_type": "execute_result"
    }
   ],
   "source": [
    "# Read population data\n",
    "population_data = pd.io.parsers.read_csv(\"things/population.dat\", header = None, names = ['year', 'population'])\n",
    "\n",
    "population_data"
   ]
  },
  {
   "cell_type": "markdown",
   "id": "f987982a-4dc2-4c90-9438-06b6e9f735e0",
   "metadata": {},
   "source": [
    "Definicja zbiorów funkcji bazowych"
   ]
  },
  {
   "cell_type": "code",
   "execution_count": 3,
   "id": "af1563f0-a664-48e0-967b-e5329bc6d1ab",
   "metadata": {},
   "outputs": [],
   "source": [
    "# 1st base function\n",
    "def base_function_1(j, t):\n",
    "    return t ** (j-1)\n",
    "\n",
    "# 2nd base function\n",
    "def base_function_2(j, t):\n",
    "    return (t-1900) ** (j-1)\n",
    "\n",
    "# 3rd base function\n",
    "def base_function_3(j, t):\n",
    "    return (t-1940) ** (j-1)\n",
    "\n",
    "# 4th base function\n",
    "def base_function_4(j, t):\n",
    "    return ((t-1940) / 40) ** (j-1)"
   ]
  },
  {
   "cell_type": "markdown",
   "id": "46c93e29-2dd6-4308-aa88-9c143312bb7e",
   "metadata": {},
   "source": [
    "<h3>a) Utworzenie macierzy Vandermonde'a dla danych zbiorów funkcji</h3>"
   ]
  },
  {
   "cell_type": "code",
   "execution_count": 4,
   "id": "a1c16ab8-9c66-472d-a60f-4d1a4b321b13",
   "metadata": {},
   "outputs": [],
   "source": [
    "# function returning the Vandermonde matrix for given set of functions\n",
    "def create_vandermonde_matrix(function, points):\n",
    "    return function(np.array(range(1,len(points)+1))[:,np.newaxis], points[:,0]).T\n",
    "\n",
    "# create vandermonde matrices for base function sets\n",
    "vandermonde1 = create_vandermonde_matrix(base_function_1, np.float64(population_data[population_data['year'] <= 1980].values))\n",
    "vandermonde2 = create_vandermonde_matrix(base_function_2, np.float64(population_data[population_data['year'] <= 1980].values))\n",
    "vandermonde3 = create_vandermonde_matrix(base_function_3, np.float64(population_data[population_data['year'] <= 1980].values))\n",
    "vandermonde4 = create_vandermonde_matrix(base_function_4, np.float64(population_data[population_data['year'] <= 1980].values))"
   ]
  },
  {
   "cell_type": "markdown",
   "id": "8eb4a43d-157f-4528-8fee-ebf2e4be4217",
   "metadata": {},
   "source": [
    "<h3>b) Współczynniki uwarunkowania macierzy Vandermonde'a</h3>"
   ]
  },
  {
   "cell_type": "code",
   "execution_count": 5,
   "id": "a242d5e8-fe95-483f-b963-04b1260ca29d",
   "metadata": {},
   "outputs": [
    {
     "name": "stdout",
     "output_type": "stream",
     "text": [
      "Współczynnik uwarunkowania dla zbiorów funkcji 1: 3.983e+36\n",
      "Współczynnik uwarunkowania dla zbiorów funkcji 2: 6.307e+15\n",
      "Współczynnik uwarunkowania dla zbiorów funkcji 3: 9.316e+12\n",
      "Współczynnik uwarunkowania dla zbiorów funkcji 4: 1.605e+03\n"
     ]
    }
   ],
   "source": [
    "# calculate condition number for vandermonde matrices\n",
    "cond1 = np.linalg.cond(vandermonde1)\n",
    "cond2 = np.linalg.cond(vandermonde2)\n",
    "cond3 = np.linalg.cond(vandermonde3)\n",
    "cond4 = np.linalg.cond(vandermonde4)\n",
    "\n",
    "# print out the condition numbers\n",
    "print(f\"Współczynnik uwarunkowania dla zbiorów funkcji 1: {\"{:.3e}\".format(cond1)}\")\n",
    "print(f\"Współczynnik uwarunkowania dla zbiorów funkcji 2: {\"{:.3e}\".format(cond2)}\")\n",
    "print(f\"Współczynnik uwarunkowania dla zbiorów funkcji 3: {\"{:.3e}\".format(cond3)}\")\n",
    "print(f\"Współczynnik uwarunkowania dla zbiorów funkcji 4: {\"{:.3e}\".format(cond4)}\")"
   ]
  },
  {
   "cell_type": "markdown",
   "id": "f6006fda-99c7-4e79-9323-5d17f2308020",
   "metadata": {},
   "source": [
    "<h3>c) Wielomian interpolacyjny dla najlepiej uwarunkowanej bazy</h3>"
   ]
  },
  {
   "cell_type": "markdown",
   "id": "eaf46434-746d-45a6-b912-39d3ad62d9d3",
   "metadata": {},
   "source": [
    "Współczynniki wielomianu interpolacyjnego"
   ]
  },
  {
   "cell_type": "code",
   "execution_count": 6,
   "id": "0a681a59-b15c-4748-af01-7448132a9b4c",
   "metadata": {},
   "outputs": [],
   "source": [
    "# solve matrix equation for coefficients\n",
    "coefficients = np.linalg.solve(vandermonde4, population_data[population_data['year'] <= 1980]['population'])"
   ]
  },
  {
   "cell_type": "markdown",
   "id": "7a24edf3-d007-4ac0-95e6-ece13d5cd539",
   "metadata": {},
   "source": [
    "Schemat Hornera do obliczania wartości wielomianu"
   ]
  },
  {
   "cell_type": "code",
   "execution_count": 7,
   "id": "fab6adca-95a7-4e45-a622-ddda28a30307",
   "metadata": {},
   "outputs": [],
   "source": [
    "# calculate the value of polynomial using Horner's method\n",
    "def horner_method(coefficients, x):\n",
    "    result = 0\n",
    "    for coefficient in reversed(coefficients):\n",
    "        result = x * result + coefficient\n",
    "    return result"
   ]
  },
  {
   "cell_type": "markdown",
   "id": "11ddc2c0-d924-4a57-8236-534e01cd0f83",
   "metadata": {},
   "source": [
    "Narysowanie wielomianu interpolacyjnego"
   ]
  },
  {
   "cell_type": "code",
   "execution_count": 8,
   "id": "5a3b29d3-eb33-4585-a739-d4d110bf5099",
   "metadata": {},
   "outputs": [
    {
     "data": {
      "image/png": "[encoded data removed]",
      "text/plain": [
       "<Figure size 640x480 with 1 Axes>"
      ]
     },
     "metadata": {},
     "output_type": "display_data"
    }
   ],
   "source": [
    "# define x and y values\n",
    "xs = np.arange(1900, 1991)\n",
    "ys_vandermonde = horner_method(coefficients, base_function_4(2, xs))\n",
    "# add plot of interpolated polynomial and points \n",
    "plt.plot(xs, ys_vandermonde, label=\"Interpolated polynomial\")\n",
    "plt.plot(\n",
    "    population_data[population_data['year'] <= 1980]['year'],\n",
    "    population_data[population_data['year'] <= 1980]['population'],\n",
    "    marker='o',\n",
    "    linestyle='',\n",
    "    label=\"Interpolation nodes\"\n",
    ")\n",
    "# add axes labels\n",
    "plt.xlabel(\"year\")\n",
    "plt.ylabel(\"population\")\n",
    "# show with legend\n",
    "plt.legend()\n",
    "plt.show()"
   ]
  },
  {
   "cell_type": "markdown",
   "id": "6d2e54df-ddbb-4c93-a1c6-d0ac42606834",
   "metadata": {},
   "source": [
    "<h3>d) Ekstrapolacja wielomianu do roku 1990</h3>"
   ]
  },
  {
   "cell_type": "code",
   "execution_count": 9,
   "id": "44658343-3c16-4287-9b56-aabf72737551",
   "metadata": {},
   "outputs": [
    {
     "name": "stdout",
     "output_type": "stream",
     "text": [
      "Wartość przewidywana: 8.275e+07\n",
      "Wartość prawdziwa: 2.487e+08\n",
      "Błąd względny: 0.6673\n"
     ]
    }
   ],
   "source": [
    "# predicted value\n",
    "predicted_1990 = horner_method(coefficients, base_function_4(2, 1990))\n",
    "# actual value\n",
    "actual_1990 = population_data['population'][population_data['year'] == 1990].values[0]\n",
    "\n",
    "# compare predicted and actual values\n",
    "print(f\"Wartość przewidywana: {\"{:.3e}\".format(predicted_1990)}\")\n",
    "print(f\"Wartość prawdziwa: {\"{:.3e}\".format(actual_1990)}\")\n",
    "print(f\"Błąd względny: {\"{:.4f}\".format(abs(actual_1990-predicted_1990)/actual_1990)}\")"
   ]
  },
  {
   "cell_type": "markdown",
   "id": "1ab4a5a9-7df3-4be1-bad0-84983146e65a",
   "metadata": {},
   "source": [
    "<h3>e) Interpolacja Lagrange'a</h3>"
   ]
  },
  {
   "cell_type": "markdown",
   "id": "5f122647-d628-4a85-b457-8d326a4dd759",
   "metadata": {},
   "source": [
    "Funkcje obliczające wartości wielomianu Lagrange'a"
   ]
  },
  {
   "cell_type": "code",
   "execution_count": 10,
   "id": "9f1b1a8d-f3bd-4c22-9363-d14b623a3e00",
   "metadata": {},
   "outputs": [],
   "source": [
    "# calculate lagrange numerator\n",
    "def lagrange_numerator(points, index, x):\n",
    "    xs = points[:,0]\n",
    "    factors = x - xs[xs != xs[index]]\n",
    "    return np.prod(factors)\n",
    "\n",
    "# calculate lagrange denominator\n",
    "def lagrange_denominator(points, index):\n",
    "    xs = points[:,0]\n",
    "    factors = xs[index] - xs[xs != xs[index]]\n",
    "    return np.prod(factors)\n",
    "\n",
    "# calculate lagrange polynomial values (pass denominators to avoid unnecessert recomputation)\n",
    "def lagrange_value(points, x, denominators):\n",
    "    result = 0\n",
    "    for index, point in enumerate(points):\n",
    "        result += point[1] * lagrange_numerator(points, index, x) / denominators[index]\n",
    "    return result"
   ]
  },
  {
   "cell_type": "markdown",
   "id": "14b79df2-5a7a-40b6-8e28-7b07089121fe",
   "metadata": {},
   "source": [
    "Narysowanie wielomianu Lagrange'a"
   ]
  },
  {
   "cell_type": "code",
   "execution_count": 11,
   "id": "08af0db1-50d9-4178-a58f-d74591772cbe",
   "metadata": {},
   "outputs": [
    {
     "data": {
      "image/png": "[encoded data removed]",
      "text/plain": [
       "<Figure size 640x480 with 1 Axes>"
      ]
     },
     "metadata": {},
     "output_type": "display_data"
    }
   ],
   "source": [
    "# define x and y values\n",
    "points = np.float64(population_data[population_data['year'] <= 1980].values)\n",
    "denominators = [lagrange_denominator(points, index) for index in range(len(points))]\n",
    "ys_lagrange = [lagrange_value(points, x, denominators) for x in xs]\n",
    "\n",
    "# add plot of interpolated polynomial and points \n",
    "plt.plot(xs, ys_lagrange, label=\"Lagrange polynomial\")\n",
    "plt.plot(\n",
    "    population_data[population_data['year'] <= 1980]['year'],\n",
    "    population_data[population_data['year'] <= 1980]['population'],\n",
    "    marker='o',\n",
    "    linestyle='',\n",
    "    label=\"Interpolation nodes\"\n",
    ")\n",
    "# add axes labels\n",
    "plt.xlabel(\"year\")\n",
    "plt.ylabel(\"population\")\n",
    "# show with legend\n",
    "plt.legend()\n",
    "plt.show()"
   ]
  },
  {
   "cell_type": "markdown",
   "id": "297689ee-8f1d-4ffe-89c8-33ecf309d518",
   "metadata": {},
   "source": [
    "Porównanie wyliczonych wartości wielomianu Lagrange'a i wielomianu interpolowanego z macierzy Vandermonde'a"
   ]
  },
  {
   "cell_type": "code",
   "execution_count": 12,
   "id": "a14b1bc3-1ea5-4395-987d-3ef813704d93",
   "metadata": {},
   "outputs": [
    {
     "name": "stdout",
     "output_type": "stream",
     "text": [
      "Wartości wielomianów są identyczne w granicy błędu: True\n"
     ]
    }
   ],
   "source": [
    "# compare calculated values of polynomial\n",
    "print(f\"Wartości wielomianów są identyczne w granicy błędu: {np.allclose(ys_vandermonde, ys_lagrange)}\")"
   ]
  },
  {
   "cell_type": "markdown",
   "id": "5b93e5e2-9e8a-4580-aac8-90f7b2897fc6",
   "metadata": {},
   "source": [
    "<h3>f) Interpolacja Newtona</h3>"
   ]
  },
  {
   "cell_type": "markdown",
   "id": "ce6dd067-aca0-4ed7-a6c8-b3e9929d7a4f",
   "metadata": {},
   "source": [
    "Funkcje obliczające wartości wielomianu Newtona"
   ]
  },
  {
   "cell_type": "code",
   "execution_count": 13,
   "id": "89ff41a9-5f29-4876-ae9d-a6d7447fcec8",
   "metadata": {},
   "outputs": [],
   "source": [
    "# calculate divided differences for newton polynomial\n",
    "def divided_differences(points):\n",
    "    div_diffs = np.array(points[:,1], copy=True)\n",
    "    n = len(points)\n",
    "    for i in range(1, n):\n",
    "        div_diffs[i : n] = (div_diffs[i : n] - div_diffs[i - 1]) / (points[:,0][i : n] - points[:,0][i - 1])\n",
    "    return div_diffs\n",
    "\n",
    "# calculate the value of newton polynomial using horner's method (pass divided differences to avoid unnecessert recomputation)\n",
    "def newton_horner(points, x, div_diffs):\n",
    "    result = 0\n",
    "    n = len(points)\n",
    "    for i, div_diff in enumerate(reversed(div_diffs)):\n",
    "        result = (x - points[:,0][n - i - 1]) * result + div_diff\n",
    "    return result"
   ]
  },
  {
   "cell_type": "markdown",
   "id": "15ea2079-07ac-4504-99b6-7d0e0eda1d5e",
   "metadata": {},
   "source": [
    "Narysowanie wielomianu Newtona"
   ]
  },
  {
   "cell_type": "code",
   "execution_count": 14,
   "id": "e1deaf46-8e59-4bbb-b521-2bb42b238d5b",
   "metadata": {},
   "outputs": [
    {
     "data": {
      "image/png": "[encoded data removed]",
      "text/plain": [
       "<Figure size 640x480 with 1 Axes>"
      ]
     },
     "metadata": {},
     "output_type": "display_data"
    }
   ],
   "source": [
    "# define x and y values\n",
    "points = np.float64(population_data[population_data['year'] <= 1980].values)\n",
    "div_diffs = divided_differences(points)\n",
    "ys_newton = [newton_horner(points, x, div_diffs) for x in xs]\n",
    "\n",
    "# add plot of interpolated polynomial and points \n",
    "plt.plot(xs, ys_newton, label=\"Newton polynomial\")\n",
    "plt.plot(\n",
    "    population_data[population_data['year'] <= 1980]['year'],\n",
    "    population_data[population_data['year'] <= 1980]['population'],\n",
    "    marker='o',\n",
    "    linestyle='',\n",
    "    label=\"Interpolation nodes\"\n",
    ")\n",
    "# add axes labels\n",
    "plt.xlabel(\"year\")\n",
    "plt.ylabel(\"population\")\n",
    "# show with legend\n",
    "plt.legend()\n",
    "plt.show()"
   ]
  },
  {
   "cell_type": "markdown",
   "id": "28d60e37-5d84-4634-9818-b545e87ee13e",
   "metadata": {},
   "source": [
    "Porównanie wyliczonych wartości wielomianu Newtona i wielomianu interpolowanego z macierzy Vandermonde'a"
   ]
  },
  {
   "cell_type": "code",
   "execution_count": 15,
   "id": "37a381d4-5072-4e1a-915b-fd060d4acff0",
   "metadata": {},
   "outputs": [
    {
     "name": "stdout",
     "output_type": "stream",
     "text": [
      "Wartości wielomianów są identyczne w granicy błędu: True\n"
     ]
    }
   ],
   "source": [
    "# compare calculated values of polynomial\n",
    "print(f\"Wartości wielomianów są identyczne w granicy błędu: {np.allclose(ys_vandermonde, ys_newton)}\")"
   ]
  },
  {
   "cell_type": "markdown",
   "id": "d6b48873-3d34-486b-a67f-b9ea40ed3240",
   "metadata": {},
   "source": [
    "<h3>g) Interpolacja przy zaokrągleniu do miliona</h3>"
   ]
  },
  {
   "cell_type": "markdown",
   "id": "fd0244e9-a6b1-4778-abf8-0d2b81dd2cd0",
   "metadata": {},
   "source": [
    "Zaokrąglenie danych do miliona"
   ]
  },
  {
   "cell_type": "code",
   "execution_count": 16,
   "id": "e51ec4c5-db16-4900-8038-2c869dfd2fff",
   "metadata": {},
   "outputs": [
    {
     "data": {
      "text/html": [
       "<div>\n",
       "<style scoped>\n",
       "    .dataframe tbody tr th:only-of-type {\n",
       "        vertical-align: middle;\n",
       "    }\n",
       "\n",
       "    .dataframe tbody tr th {\n",
       "        vertical-align: top;\n",
       "    }\n",
       "\n",
       "    .dataframe thead th {\n",
       "        text-align: right;\n",
       "    }\n",
       "</style>\n",
       "<table border=\"1\" class=\"dataframe\">\n",
       "  <thead>\n",
       "    <tr style=\"text-align: right;\">\n",
       "      <th></th>\n",
       "      <th>year</th>\n",
       "      <th>population</th>\n",
       "    </tr>\n",
       "  </thead>\n",
       "  <tbody>\n",
       "    <tr>\n",
       "      <th>0</th>\n",
       "      <td>1900</td>\n",
       "      <td>76000000</td>\n",
       "    </tr>\n",
       "    <tr>\n",
       "      <th>1</th>\n",
       "      <td>1910</td>\n",
       "      <td>92000000</td>\n",
       "    </tr>\n",
       "    <tr>\n",
       "      <th>2</th>\n",
       "      <td>1920</td>\n",
       "      <td>106000000</td>\n",
       "    </tr>\n",
       "    <tr>\n",
       "      <th>3</th>\n",
       "      <td>1930</td>\n",
       "      <td>123000000</td>\n",
       "    </tr>\n",
       "    <tr>\n",
       "      <th>4</th>\n",
       "      <td>1940</td>\n",
       "      <td>132000000</td>\n",
       "    </tr>\n",
       "    <tr>\n",
       "      <th>5</th>\n",
       "      <td>1950</td>\n",
       "      <td>151000000</td>\n",
       "    </tr>\n",
       "    <tr>\n",
       "      <th>6</th>\n",
       "      <td>1960</td>\n",
       "      <td>179000000</td>\n",
       "    </tr>\n",
       "    <tr>\n",
       "      <th>7</th>\n",
       "      <td>1970</td>\n",
       "      <td>203000000</td>\n",
       "    </tr>\n",
       "    <tr>\n",
       "      <th>8</th>\n",
       "      <td>1980</td>\n",
       "      <td>227000000</td>\n",
       "    </tr>\n",
       "    <tr>\n",
       "      <th>9</th>\n",
       "      <td>1990</td>\n",
       "      <td>249000000</td>\n",
       "    </tr>\n",
       "  </tbody>\n",
       "</table>\n",
       "</div>"
      ],
      "text/plain": [
       "   year  population\n",
       "0  1900    76000000\n",
       "1  1910    92000000\n",
       "2  1920   106000000\n",
       "3  1930   123000000\n",
       "4  1940   132000000\n",
       "5  1950   151000000\n",
       "6  1960   179000000\n",
       "7  1970   203000000\n",
       "8  1980   227000000\n",
       "9  1990   249000000"
      ]
     },
     "execution_count": 16,
     "metadata": {},
     "output_type": "execute_result"
    }
   ],
   "source": [
    "# data rounded to a million\n",
    "population_data_rounded = pd.DataFrame(data=population_data, copy=True)\n",
    "population_data_rounded['population'] = population_data_rounded['population'].round(-6)\n",
    "population_data_rounded"
   ]
  },
  {
   "cell_type": "markdown",
   "id": "7ccb4fdc-a028-4ac6-bfae-e9f96533181d",
   "metadata": {},
   "source": [
    "Współczynniki wielomianu interpolacyjnego"
   ]
  },
  {
   "cell_type": "code",
   "execution_count": 17,
   "id": "cf112669-64fa-451d-9786-dac23ac66dd7",
   "metadata": {},
   "outputs": [],
   "source": [
    "# solve matrix equation for coefficients\n",
    "coefficients_rounded = np.linalg.solve(vandermonde4, population_data_rounded[population_data_rounded['year'] <= 1980]['population'])"
   ]
  },
  {
   "cell_type": "markdown",
   "id": "af875d4e-e193-4fea-baef-23857e78ce75",
   "metadata": {},
   "source": [
    "Narysowanie wielomianu interpolacyjnego"
   ]
  },
  {
   "cell_type": "code",
   "execution_count": 18,
   "id": "6b3331ed-8096-4ad9-bdd3-848e8ebd7a8e",
   "metadata": {},
   "outputs": [
    {
     "data": {
      "image/png": "[encoded data removed]",
      "text/plain": [
       "<Figure size 640x480 with 1 Axes>"
      ]
     },
     "metadata": {},
     "output_type": "display_data"
    }
   ],
   "source": [
    "# define x and y values\n",
    "xs = np.arange(1900, 1991)\n",
    "ys_rounded = horner_method(coefficients_rounded, base_function_4(2, xs))\n",
    "# add plot of interpolated polynomial and points \n",
    "plt.plot(xs, ys_rounded, label=\"Interpolated polynomial - rounded\")\n",
    "plt.plot(\n",
    "    population_data_rounded[population_data_rounded['year'] <= 1980]['year'],\n",
    "    population_data_rounded[population_data_rounded['year'] <= 1980]['population'],\n",
    "    marker='o',\n",
    "    linestyle='',\n",
    "    label=\"Interpolation nodes - rounded\"\n",
    ")\n",
    "# add axes labels\n",
    "plt.xlabel(\"year\")\n",
    "plt.ylabel(\"population\")\n",
    "# show with legend\n",
    "plt.legend()\n",
    "plt.show()"
   ]
  },
  {
   "cell_type": "markdown",
   "id": "19e5f896-4e60-48de-bee8-c492778e9246",
   "metadata": {},
   "source": [
    "Porównanie wyznaczonych współczynników"
   ]
  },
  {
   "cell_type": "code",
   "execution_count": 19,
   "id": "8c131500-d8c0-4fdb-9c40-1853175301b0",
   "metadata": {},
   "outputs": [
    {
     "data": {
      "text/html": [
       "<div>\n",
       "<style scoped>\n",
       "    .dataframe tbody tr th:only-of-type {\n",
       "        vertical-align: middle;\n",
       "    }\n",
       "\n",
       "    .dataframe tbody tr th {\n",
       "        vertical-align: top;\n",
       "    }\n",
       "\n",
       "    .dataframe thead th {\n",
       "        text-align: right;\n",
       "    }\n",
       "</style>\n",
       "<table border=\"1\" class=\"dataframe\">\n",
       "  <thead>\n",
       "    <tr style=\"text-align: right;\">\n",
       "      <th></th>\n",
       "      <th>coefficients</th>\n",
       "      <th>coefficients - rounded</th>\n",
       "      <th>relative difference</th>\n",
       "    </tr>\n",
       "  </thead>\n",
       "  <tbody>\n",
       "    <tr>\n",
       "      <th>0</th>\n",
       "      <td>1.321646e+08</td>\n",
       "      <td>1.320000e+08</td>\n",
       "      <td>0.001245</td>\n",
       "    </tr>\n",
       "    <tr>\n",
       "      <th>1</th>\n",
       "      <td>4.613077e+07</td>\n",
       "      <td>4.595714e+07</td>\n",
       "      <td>0.003764</td>\n",
       "    </tr>\n",
       "    <tr>\n",
       "      <th>2</th>\n",
       "      <td>1.027163e+08</td>\n",
       "      <td>1.001413e+08</td>\n",
       "      <td>0.025069</td>\n",
       "    </tr>\n",
       "    <tr>\n",
       "      <th>3</th>\n",
       "      <td>1.825271e+08</td>\n",
       "      <td>1.811111e+08</td>\n",
       "      <td>0.007758</td>\n",
       "    </tr>\n",
       "    <tr>\n",
       "      <th>4</th>\n",
       "      <td>-3.746147e+08</td>\n",
       "      <td>-3.567556e+08</td>\n",
       "      <td>0.047673</td>\n",
       "    </tr>\n",
       "    <tr>\n",
       "      <th>5</th>\n",
       "      <td>-3.426685e+08</td>\n",
       "      <td>-3.384889e+08</td>\n",
       "      <td>0.012197</td>\n",
       "    </tr>\n",
       "    <tr>\n",
       "      <th>6</th>\n",
       "      <td>6.062912e+08</td>\n",
       "      <td>5.703111e+08</td>\n",
       "      <td>0.059345</td>\n",
       "    </tr>\n",
       "    <tr>\n",
       "      <th>7</th>\n",
       "      <td>1.891756e+08</td>\n",
       "      <td>1.869206e+08</td>\n",
       "      <td>0.011920</td>\n",
       "    </tr>\n",
       "    <tr>\n",
       "      <th>8</th>\n",
       "      <td>-3.151802e+08</td>\n",
       "      <td>-2.941968e+08</td>\n",
       "      <td>0.066576</td>\n",
       "    </tr>\n",
       "  </tbody>\n",
       "</table>\n",
       "</div>"
      ],
      "text/plain": [
       "   coefficients  coefficients - rounded  relative difference\n",
       "0  1.321646e+08            1.320000e+08             0.001245\n",
       "1  4.613077e+07            4.595714e+07             0.003764\n",
       "2  1.027163e+08            1.001413e+08             0.025069\n",
       "3  1.825271e+08            1.811111e+08             0.007758\n",
       "4 -3.746147e+08           -3.567556e+08             0.047673\n",
       "5 -3.426685e+08           -3.384889e+08             0.012197\n",
       "6  6.062912e+08            5.703111e+08             0.059345\n",
       "7  1.891756e+08            1.869206e+08             0.011920\n",
       "8 -3.151802e+08           -2.941968e+08             0.066576"
      ]
     },
     "execution_count": 19,
     "metadata": {},
     "output_type": "execute_result"
    }
   ],
   "source": [
    "comparison = pd.DataFrame({\n",
    "    'coefficients': coefficients,\n",
    "    'coefficients - rounded': coefficients_rounded,\n",
    "    'relative difference': (coefficients - coefficients_rounded) / coefficients\n",
    "})\n",
    "comparison"
   ]
  },
  {
   "cell_type": "markdown",
   "id": "e5778ff8-ce2f-43ec-8420-4b4f87c9a062",
   "metadata": {},
   "source": [
    "Ekstrapolacja wielomianu do roku 1990"
   ]
  },
  {
   "cell_type": "code",
   "execution_count": 20,
   "id": "39381eb9-94e5-4cc3-96f2-14aa4a83e1b8",
   "metadata": {},
   "outputs": [
    {
     "name": "stdout",
     "output_type": "stream",
     "text": [
      "Wartość przewidywana: 1.090e+08\n",
      "Wartość prawdziwa: 2.487e+08\n",
      "Błąd względny: 0.5617\n"
     ]
    }
   ],
   "source": [
    "# predicted value\n",
    "predicted_1990 = horner_method(coefficients_rounded, base_function_4(2, 1990))\n",
    "# actual value\n",
    "actual_1990 = population_data['population'][population_data['year'] == 1990].values[0]\n",
    "\n",
    "# compare predicted and actual values\n",
    "print(f\"Wartość przewidywana: {\"{:.3e}\".format(predicted_1990)}\")\n",
    "print(f\"Wartość prawdziwa: {\"{:.3e}\".format(actual_1990)}\")\n",
    "print(f\"Błąd względny: {\"{:.4f}\".format(abs(actual_1990-predicted_1990)/actual_1990)}\")"
   ]
  }
 ],
 "metadata": {
  "kernelspec": {
   "display_name": "Python 3 (ipykernel)",
   "language": "python",
   "name": "python3"
  },
  "language_info": {
   "codemirror_mode": {
    "name": "ipython",
    "version": 3
   },
   "file_extension": ".py",
   "mimetype": "text/x-python",
   "name": "python",
   "nbconvert_exporter": "python",
   "pygments_lexer": "ipython3",
   "version": "3.13.2"
  }
 },
 "nbformat": 4,
 "nbformat_minor": 5
}
