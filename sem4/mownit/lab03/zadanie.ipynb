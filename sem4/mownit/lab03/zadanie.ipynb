{
 "cells": [
  {
   "cell_type": "markdown",
   "id": "eb03e460-c6b9-4078-956e-9dca121ab0ab",
   "metadata": {},
   "source": [
    "<h2>Import bibliotek</h2>"
   ]
  },
  {
   "cell_type": "code",
   "execution_count": 1,
   "id": "06610b2a-9786-4dcd-8659-ad09e099899d",
   "metadata": {},
   "outputs": [],
   "source": [
    "import numpy as np\n",
    "import matplotlib.pyplot as plt\n",
    "import pandas as pd"
   ]
  },
  {
   "cell_type": "markdown",
   "id": "3ed69e7a-6819-4978-8a31-58216cf155df",
   "metadata": {},
   "source": [
    "<h2>Zadanie</h2>"
   ]
  },
  {
   "cell_type": "markdown",
   "id": "ef30a5cf-5eb6-41d1-9784-8455dd19a362",
   "metadata": {},
   "source": [
    "Wczytanie zbioru danych populacji"
   ]
  },
  {
   "cell_type": "code",
   "execution_count": 2,
   "id": "9d068fc6-35be-45fe-a891-162c447082d0",
   "metadata": {},
   "outputs": [
    {
     "data": {
      "text/html": [
       "<div>\n",
       "<style scoped>\n",
       "    .dataframe tbody tr th:only-of-type {\n",
       "        vertical-align: middle;\n",
       "    }\n",
       "\n",
       "    .dataframe tbody tr th {\n",
       "        vertical-align: top;\n",
       "    }\n",
       "\n",
       "    .dataframe thead th {\n",
       "        text-align: right;\n",
       "    }\n",
       "</style>\n",
       "<table border=\"1\" class=\"dataframe\">\n",
       "  <thead>\n",
       "    <tr style=\"text-align: right;\">\n",
       "      <th></th>\n",
       "      <th>year</th>\n",
       "      <th>population</th>\n",
       "    </tr>\n",
       "  </thead>\n",
       "  <tbody>\n",
       "    <tr>\n",
       "      <th>0</th>\n",
       "      <td>1900</td>\n",
       "      <td>76212168</td>\n",
       "    </tr>\n",
       "    <tr>\n",
       "      <th>1</th>\n",
       "      <td>1910</td>\n",
       "      <td>92228496</td>\n",
       "    </tr>\n",
       "    <tr>\n",
       "      <th>2</th>\n",
       "      <td>1920</td>\n",
       "      <td>106021537</td>\n",
       "    </tr>\n",
       "    <tr>\n",
       "      <th>3</th>\n",
       "      <td>1930</td>\n",
       "      <td>123202624</td>\n",
       "    </tr>\n",
       "    <tr>\n",
       "      <th>4</th>\n",
       "      <td>1940</td>\n",
       "      <td>132164569</td>\n",
       "    </tr>\n",
       "    <tr>\n",
       "      <th>5</th>\n",
       "      <td>1950</td>\n",
       "      <td>151325798</td>\n",
       "    </tr>\n",
       "    <tr>\n",
       "      <th>6</th>\n",
       "      <td>1960</td>\n",
       "      <td>179323175</td>\n",
       "    </tr>\n",
       "    <tr>\n",
       "      <th>7</th>\n",
       "      <td>1970</td>\n",
       "      <td>203302031</td>\n",
       "    </tr>\n",
       "    <tr>\n",
       "      <th>8</th>\n",
       "      <td>1980</td>\n",
       "      <td>226542199</td>\n",
       "    </tr>\n",
       "    <tr>\n",
       "      <th>9</th>\n",
       "      <td>1990</td>\n",
       "      <td>248709873</td>\n",
       "    </tr>\n",
       "  </tbody>\n",
       "</table>\n",
       "</div>"
      ],
      "text/plain": [
       "   year  population\n",
       "0  1900    76212168\n",
       "1  1910    92228496\n",
       "2  1920   106021537\n",
       "3  1930   123202624\n",
       "4  1940   132164569\n",
       "5  1950   151325798\n",
       "6  1960   179323175\n",
       "7  1970   203302031\n",
       "8  1980   226542199\n",
       "9  1990   248709873"
      ]
     },
     "execution_count": 2,
     "metadata": {},
     "output_type": "execute_result"
    }
   ],
   "source": [
    "# Read population data\n",
    "population_data = pd.io.parsers.read_csv(\"things/population.dat\", header = None, names = ['year', 'population'])\n",
    "\n",
    "population_data"
   ]
  },
  {
   "cell_type": "markdown",
   "id": "f987982a-4dc2-4c90-9438-06b6e9f735e0",
   "metadata": {},
   "source": [
    "Definicja zbiorów funkcji bazowych"
   ]
  },
  {
   "cell_type": "code",
   "execution_count": 5,
   "id": "af1563f0-a664-48e0-967b-e5329bc6d1ab",
   "metadata": {},
   "outputs": [],
   "source": [
    "# 1st base function\n",
    "def base_function_1(j, t):\n",
    "    return t ** (j-1)\n",
    "\n",
    "# 2nd base function\n",
    "def base_function_2(j, t):\n",
    "    return (t-1900) ** (j-1)\n",
    "\n",
    "# 3rd base function\n",
    "def base_function_3(j, t):\n",
    "    return (t-1940) ** (j-1)\n",
    "\n",
    "# 4th base function\n",
    "def base_function_4(j, t):\n",
    "    return ((t-1940) / 40) ** (j-1)"
   ]
  },
  {
   "cell_type": "markdown",
   "id": "46c93e29-2dd6-4308-aa88-9c143312bb7e",
   "metadata": {},
   "source": [
    "<h3>a) Utworzenie macierzy Vandermonde'a dla danych zbiorów funkcji</h3>"
   ]
  },
  {
   "cell_type": "code",
   "execution_count": 12,
   "id": "a1c16ab8-9c66-472d-a60f-4d1a4b321b13",
   "metadata": {},
   "outputs": [],
   "source": [
    "# function returning the Vandermonde matrix for given set of functions\n",
    "def create_vandermonde_matrix(function, points):\n",
    "    return function(np.array(range(1,len(points)))[:,np.newaxis], points[:,0]).T\n",
    "\n",
    "# create vandermonde matrices for base function sets\n",
    "vandermonde1 = create_vandermonde_matrix(base_function_1, population_data[population_data['year'] <= 1980].values)\n",
    "vandermonde2 = create_vandermonde_matrix(base_function_2, population_data[population_data['year'] <= 1980].values)\n",
    "vandermonde3 = create_vandermonde_matrix(base_function_3, population_data[population_data['year'] <= 1980].values)\n",
    "vandermonde4 = create_vandermonde_matrix(base_function_4, population_data[population_data['year'] <= 1980].values)"
   ]
  },
  {
   "cell_type": "markdown",
   "id": "8eb4a43d-157f-4528-8fee-ebf2e4be4217",
   "metadata": {},
   "source": [
    "<h3>b) Współczynniki uwarunkowania macierzy Vandermonde'a</h3>"
   ]
  },
  {
   "cell_type": "code",
   "execution_count": 15,
   "id": "a242d5e8-fe95-483f-b963-04b1260ca29d",
   "metadata": {},
   "outputs": [
    {
     "name": "stdout",
     "output_type": "stream",
     "text": [
      "Współczynnik uwarunkowania dla zbiorów funkcji 1: 4.427e+26\n",
      "Współczynnik uwarunkowania dla zbiorów funkcji 2: 2.688e+13\n",
      "Współczynnik uwarunkowania dla zbiorów funkcji 3: 1.840e+11\n",
      "Współczynnik uwarunkowania dla zbiorów funkcji 4: 3.659e+02\n"
     ]
    }
   ],
   "source": [
    "# calculate condition number for vandermonde matrices\n",
    "cond1 = np.linalg.cond(vandermonde1)\n",
    "cond2 = np.linalg.cond(vandermonde2)\n",
    "cond3 = np.linalg.cond(vandermonde3)\n",
    "cond4 = np.linalg.cond(vandermonde4)\n",
    "\n",
    "# print out the condition numbers\n",
    "print(f\"Współczynnik uwarunkowania dla zbiorów funkcji 1: {\"{:.3e}\".format(cond1)}\")\n",
    "print(f\"Współczynnik uwarunkowania dla zbiorów funkcji 2: {\"{:.3e}\".format(cond2)}\")\n",
    "print(f\"Współczynnik uwarunkowania dla zbiorów funkcji 3: {\"{:.3e}\".format(cond3)}\")\n",
    "print(f\"Współczynnik uwarunkowania dla zbiorów funkcji 4: {\"{:.3e}\".format(cond4)}\")"
   ]
  },
  {
   "cell_type": "markdown",
   "id": "f6006fda-99c7-4e79-9323-5d17f2308020",
   "metadata": {},
   "source": [
    "<h3>c)</h3>"
   ]
  },
  {
   "cell_type": "markdown",
   "id": "58ddbfd0-f672-4882-b716-fb9d96e2d8be",
   "metadata": {},
   "source": [
    "<h3>a) Wczytanie zbiorów</h3>"
   ]
  },
  {
   "cell_type": "code",
   "execution_count": null,
   "id": "dcff120c-8764-411e-a07f-591f2f15c578",
   "metadata": {},
   "outputs": [],
   "source": [
    "# read names of columns\n",
    "column_names = [arr[0] for arr in pd.io.parsers.read_csv(\"things/dataset/breast-cancer.labels\", header = None).values.tolist()]\n",
    "\n",
    "# read training data\n",
    "data_training = pd.io.parsers.read_csv(\"things/dataset/breast-cancer-train.dat\", header = None, names=column_names)\n",
    "\n",
    "# read validation data\n",
    "data_validation = pd.io.parsers.read_csv(\"things/dataset/breast-cancer-validate.dat\", header = None, names=column_names)"
   ]
  },
  {
   "cell_type": "markdown",
   "id": "21471ceb-9ceb-47a0-ace6-2d390f7d1337",
   "metadata": {},
   "source": [
    "<h4>Wyświetlenie zbiorów danych</h4>"
   ]
  },
  {
   "cell_type": "markdown",
   "id": "13442dbb-3716-4bb0-9d13-ef08b8b9d1b9",
   "metadata": {},
   "source": [
    "Dane treningowe"
   ]
  },
  {
   "cell_type": "code",
   "execution_count": null,
   "id": "eb46a7f3-e148-4a6d-80cc-0fed25acfc2a",
   "metadata": {},
   "outputs": [],
   "source": [
    "data_training"
   ]
  },
  {
   "cell_type": "markdown",
   "id": "abacfd5d-8ccb-43f0-b981-6e4823c269f6",
   "metadata": {},
   "source": [
    "Dane walidacyjne"
   ]
  },
  {
   "cell_type": "code",
   "execution_count": null,
   "id": "6bc82e67-74aa-4ba7-a16b-2ba0a14f0a60",
   "metadata": {},
   "outputs": [],
   "source": [
    "data_validation"
   ]
  },
  {
   "cell_type": "markdown",
   "id": "50a3f10e-85fa-4499-aafc-c349d6c2f17c",
   "metadata": {},
   "source": [
    "<h3>b) Stworzenie histogramu i wykresu dla danych dla kolumny area (mean)</h3>"
   ]
  },
  {
   "cell_type": "code",
   "execution_count": null,
   "id": "f3a02a7c-8796-4f79-87a0-826363191c8f",
   "metadata": {},
   "outputs": [],
   "source": [
    "data_column = 'area (mean)'"
   ]
  },
  {
   "cell_type": "markdown",
   "id": "3ae03505-2456-4e7d-89bf-64dae62fea5c",
   "metadata": {},
   "source": [
    "Podzielenie danych ze względu na typ nowotworu"
   ]
  },
  {
   "cell_type": "code",
   "execution_count": null,
   "id": "3889f290-cb3e-49b8-918b-c41a4f914077",
   "metadata": {},
   "outputs": [],
   "source": [
    "# split training data in respect to cancer type\n",
    "data_training_malignant = data_training[data_training['Malignant/Benign'] == 'M']\n",
    "data_training_benign = data_training[data_training['Malignant/Benign'] == 'B']\n",
    "\n",
    "# split validation data in respect to cancer type\n",
    "data_validation_malignant = data_validation[data_validation['Malignant/Benign'] == 'M']\n",
    "data_validation_benign = data_validation[data_validation['Malignant/Benign'] == 'B']"
   ]
  },
  {
   "cell_type": "markdown",
   "id": "5974db49-2a21-419b-9ad1-1acdf609debe",
   "metadata": {},
   "source": [
    "<h4>Histogramy dla danych</h4>"
   ]
  },
  {
   "cell_type": "markdown",
   "id": "37638c11-b721-4ac8-b3dd-0091db7fe1d3",
   "metadata": {},
   "source": [
    "Histogram dla danych treningowych"
   ]
  },
  {
   "cell_type": "code",
   "execution_count": null,
   "id": "50cac519-971d-4cfe-aa27-3973d63ba8fd",
   "metadata": {},
   "outputs": [],
   "source": [
    "plt.hist(data_training_malignant[data_column], bins=15, alpha=0.7, color=\"red\", label=\"Malignant\")\n",
    "plt.hist(data_training_benign[data_column], bins=15, alpha=0.7, color=\"blue\", label=\"Benign\")\n",
    "plt.xlabel(data_column)\n",
    "plt.ylabel(\"frequency\")\n",
    "plt.title(f\"histogram of {data_column} by cancer type for training data\")\n",
    "plt.legend()\n",
    "plt.show()"
   ]
  },
  {
   "cell_type": "markdown",
   "id": "5b65fb2f-4571-4451-83ae-e677aee70f0b",
   "metadata": {},
   "source": [
    "Histogram dla danych walidacyjnych"
   ]
  },
  {
   "cell_type": "code",
   "execution_count": null,
   "id": "4e2d3534-596e-4088-91be-4f22571ddc4d",
   "metadata": {},
   "outputs": [],
   "source": [
    "plt.hist(data_validation_malignant[data_column], bins=15, alpha=0.7, color=\"red\", label=\"Malignant\")\n",
    "plt.hist(data_validation_benign[data_column], bins=15, alpha=0.7, color=\"blue\", label=\"Benign\")\n",
    "plt.xlabel(data_column)\n",
    "plt.ylabel(\"frequency\")\n",
    "plt.title(f\"histogram of {data_column} by cancer type for validation data\")\n",
    "plt.legend()\n",
    "plt.show()"
   ]
  },
  {
   "cell_type": "markdown",
   "id": "b371162c-8d82-4bea-90d9-690a250cb08c",
   "metadata": {},
   "source": [
    "<h4>Wykresy dla danych</h4>"
   ]
  },
  {
   "cell_type": "markdown",
   "id": "f414afc7-0840-489f-a1fd-aaade344b73c",
   "metadata": {},
   "source": [
    "Wykresy dla danych treningowych"
   ]
  },
  {
   "cell_type": "code",
   "execution_count": null,
   "id": "53a648c8-7b27-4697-9685-64cce49e7e66",
   "metadata": {},
   "outputs": [],
   "source": [
    "plt.plot(sorted(data_training_malignant[data_column]), label=\"Malignant\", color=\"red\", marker='o', linestyle='')\n",
    "plt.plot(sorted(data_training_benign[data_column]), label=\"Benign\", color=\"blue\", marker='o', linestyle='')\n",
    "plt.xlabel(\"index sorted in ascending order\")\n",
    "plt.ylabel(data_column)\n",
    "plt.title(f\"plot of {data_column} by cancer type for training data\")\n",
    "plt.legend()\n",
    "plt.show()"
   ]
  },
  {
   "cell_type": "markdown",
   "id": "22547d44-503c-47e6-85fb-e2dd985d93a7",
   "metadata": {},
   "source": [
    "Histogram dla danych walidacyjnych"
   ]
  },
  {
   "cell_type": "code",
   "execution_count": null,
   "id": "2d4e82bf-a119-49fa-9d70-33e6812b0cfd",
   "metadata": {},
   "outputs": [],
   "source": [
    "plt.plot(sorted(data_validation_malignant[data_column]), label=\"Malignant\", color=\"red\", marker='o', linestyle='')\n",
    "plt.plot(sorted(data_validation_benign[data_column]), label=\"Benign\", color=\"blue\", marker='o', linestyle='')\n",
    "plt.xlabel(\"index sorted in ascending order\")\n",
    "plt.ylabel(data_column)\n",
    "plt.title(f\"plot of {data_column} by cancer type for validation data\")\n",
    "plt.legend()\n",
    "plt.show()"
   ]
  },
  {
   "cell_type": "markdown",
   "id": "7bdf1cc5-a9af-4f9e-abec-5678514e6653",
   "metadata": {},
   "source": [
    "<h3>c) Reprezentacja liniowa i kwadratowa dla zbiorów danych</h3>"
   ]
  },
  {
   "cell_type": "markdown",
   "id": "f714ab7d-caf5-4166-98ed-ba304c05c981",
   "metadata": {},
   "source": [
    "Reprezentacja liniowa"
   ]
  },
  {
   "cell_type": "code",
   "execution_count": null,
   "id": "9b012788-c5cb-49aa-824a-f780a04841c1",
   "metadata": {},
   "outputs": [],
   "source": [
    "# Training data linear representation\n",
    "linear_data_training = data_training.drop([\"patient ID\", \"Malignant/Benign\"], axis=\"columns\").values\n",
    "\n",
    "# Validation data linear representation\n",
    "linear_data_validation = data_validation.drop([\"patient ID\", \"Malignant/Benign\"], axis=\"columns\").values"
   ]
  },
  {
   "cell_type": "markdown",
   "id": "04ea459c-ca98-4b5d-9844-1a698bdcb61b",
   "metadata": {},
   "source": [
    "Reprezentacja kwadratowa"
   ]
  },
  {
   "cell_type": "code",
   "execution_count": null,
   "id": "40e171d1-b263-471d-a211-7509a010b29f",
   "metadata": {},
   "outputs": [],
   "source": [
    "# Features for the quadratic representation\n",
    "quad_features = [\"radius (mean)\", \"perimeter (mean)\", \"area (mean)\", \"symmetry (mean)\"]\n",
    "\n",
    "# Training data quadratic representation\n",
    "data_training_quad_features = data_training[quad_features].values\n",
    "quad_data_training = np.hstack((\n",
    "    data_training_quad_features,\n",
    "    data_training_quad_features ** 2,\n",
    "    data_training_quad_features[:, 0][:, np.newaxis] * data_training_quad_features[:, 1:4],\n",
    "    data_training_quad_features[:, 1][:, np.newaxis] * data_training_quad_features[:, 2:4],\n",
    "    data_training_quad_features[:, 2][:, np.newaxis] * data_training_quad_features[:, 3:4]\n",
    "))\n",
    "\n",
    "# Validation data quadratic representation\n",
    "data_validation_quad_features = data_validation[quad_features].values\n",
    "quad_data_validation = np.hstack((\n",
    "    data_validation_quad_features,\n",
    "    data_validation_quad_features ** 2,\n",
    "    data_validation_quad_features[:, 0][:, np.newaxis] * data_validation_quad_features[:, 1:4],\n",
    "    data_validation_quad_features[:, 1][:, np.newaxis] * data_validation_quad_features[:, 2:4],\n",
    "    data_validation_quad_features[:, 2][:, np.newaxis] * data_validation_quad_features[:, 3:4]\n",
    "))"
   ]
  },
  {
   "cell_type": "markdown",
   "id": "124b6476-c963-4f63-96b3-be5c7a583456",
   "metadata": {},
   "source": [
    "<h3>d) Utworzenie wektora <b>b</b> z informacjami nt. typu raka dla zbiorów danych</h3>"
   ]
  },
  {
   "cell_type": "code",
   "execution_count": null,
   "id": "659e35e8-f1d8-4874-93d7-8841dc81b4d6",
   "metadata": {},
   "outputs": [],
   "source": [
    "# Cancer type vector for training data\n",
    "data_training_type_vector = np.where(data_training[\"Malignant/Benign\"] == \"M\", 1, -1)\n",
    "\n",
    "# Cancer type vector for validation data\n",
    "data_validation_type_vector = np.where(data_validation[\"Malignant/Benign\"] == \"M\", 1, -1)"
   ]
  },
  {
   "cell_type": "markdown",
   "id": "7df496b8-8864-4dfd-ab0e-f6dd307f8997",
   "metadata": {},
   "source": [
    "<h3>e) Znalezienie wag dla obu reprezentacji danych treningowych</h3>"
   ]
  },
  {
   "cell_type": "code",
   "execution_count": null,
   "id": "d44c0f87-1b1c-4f97-ac67-5204c096c0c5",
   "metadata": {},
   "outputs": [],
   "source": [
    "# Linear representation weights\n",
    "data_training_linear_weights = np.linalg.solve(\n",
    "    linear_data_training.T @ linear_data_training, linear_data_training.T @ data_training_type_vector\n",
    ");\n",
    "\n",
    "# Quadratic representation weights\n",
    "data_training_quad_weights = np.linalg.solve(\n",
    "    quad_data_training.T @ quad_data_training, quad_data_training.T @ data_training_type_vector\n",
    ");"
   ]
  },
  {
   "cell_type": "markdown",
   "id": "ac2fb10f-3bc2-4cf5-aff5-842a5df0b7e3",
   "metadata": {},
   "source": [
    "<h3>f) Wagi dla reprezentacji liniowej przy użyciu SVD i dla reprezentacji zregularyzowanej</h3>"
   ]
  },
  {
   "cell_type": "code",
   "execution_count": null,
   "id": "c03a7659-0d58-41be-b258-f27dcae9379c",
   "metadata": {},
   "outputs": [],
   "source": [
    "# Linear representation weights using SVD\n",
    "data_training_linear_weights_svd = sp.linalg.lstsq(linear_data_training, data_training_type_vector)[0]\n",
    "\n",
    "# Regularized linear representation weights\n",
    "regularization_lambda = 0.01\n",
    "data_training_linear_weights_regularized = np.linalg.solve(\n",
    "    linear_data_training.T @ linear_data_training + regularization_lambda * np.identity(linear_data_training.shape[1]),\n",
    "    linear_data_training.T @ data_training_type_vector\n",
    ")"
   ]
  },
  {
   "cell_type": "markdown",
   "id": "44b85457-3d02-4871-8b5b-5085cdecb049",
   "metadata": {},
   "source": [
    "<h3>g) Współczynniki macierzy dla reprezentacji danych treningowych</h3>"
   ]
  },
  {
   "cell_type": "code",
   "execution_count": null,
   "id": "7467bdda-257d-421e-94ee-917f715d0d7e",
   "metadata": {},
   "outputs": [],
   "source": [
    "# Condition for linear representation\n",
    "data_training_linear_cond = np.linalg.cond(linear_data_training.T @ linear_data_training)\n",
    "\n",
    "# Condition for quadratic representation\n",
    "data_training_quad_cond = np.linalg.cond(quad_data_training.T @ quad_data_training)\n",
    "\n",
    "# Print the values of conditions\n",
    "print(f\"Współczynnik uwarunkowania reprezentacji liniowej: {\"{:e}\".format(data_training_linear_cond)}\")\n",
    "print(f\"Współczynnik uwarunkowania reprezentacji kwadratowej: {\"{:e}\".format(data_training_quad_cond)}\")"
   ]
  },
  {
   "cell_type": "markdown",
   "id": "328d7cc3-8c8d-4f79-9e86-25a8bbfab6d5",
   "metadata": {},
   "source": [
    "<h3>h) Przewidywanie typu nowotworu</h3>"
   ]
  },
  {
   "cell_type": "code",
   "execution_count": null,
   "id": "0556352f-5f60-4378-b609-6f0bd8d1cffe",
   "metadata": {},
   "outputs": [],
   "source": [
    "# Get prediction results for given validation matrix, weights vector and expected_values_vector\n",
    "def get_prediction(matrix, weights, expected_values):\n",
    "    dot_product = matrix @ weights\n",
    "    predicted_values = np.where(dot_product > 0, 1, -1)\n",
    "    TP = np.sum((predicted_values == 1) & (expected_values == 1))\n",
    "    TN = np.sum((predicted_values == -1) & (expected_values == -1))\n",
    "    FP = np.sum((predicted_values == 1) & (expected_values == -1))\n",
    "    FN = np.sum((predicted_values == -1) & (expected_values == 1))\n",
    "    acc = (TP+TN) / (TP+TN+FP+FN)\n",
    "    result = {\n",
    "        \"TP\": TP,\n",
    "        \"TN\": TN,\n",
    "        \"FP\": FP,\n",
    "        \"FN\": FN,\n",
    "        \"acc\": acc,\n",
    "    }\n",
    "    return result\n",
    "\n",
    "def print_confusion_matrix(prediction_result):\n",
    "    print(\"\\t\\t\\tActually positive:\\tActually negative:\")\n",
    "    print(f\"Predicted positive:\\tTP - {prediction_result[\"TP\"]}\\t\\t\\tFP - {prediction_result[\"FP\"]}\")\n",
    "    print(f\"Predicted positive:\\tFN - {prediction_result[\"FN\"]}\\t\\t\\tTN - {prediction_result[\"TN\"]}\")\n",
    "    print(f\"\\tAccuracy: {\"{:.3f}\".format(100*prediction_result[\"acc\"])}%\")"
   ]
  },
  {
   "cell_type": "markdown",
   "id": "a8276783-75e7-4df9-9dbd-8da7e2edcd44",
   "metadata": {},
   "source": [
    "<h4>Wypisanie macierzy pomyłek dla danych metod</h4>"
   ]
  },
  {
   "cell_type": "markdown",
   "id": "6de2dbbd-b7d2-45f4-aa85-7b624546044b",
   "metadata": {},
   "source": [
    "Liniowa:"
   ]
  },
  {
   "cell_type": "code",
   "execution_count": null,
   "id": "5f002809-f279-4e23-b977-7205e187ccc1",
   "metadata": {},
   "outputs": [],
   "source": [
    "print_confusion_matrix(get_prediction(linear_data_validation, data_training_linear_weights, data_validation_type_vector))"
   ]
  },
  {
   "cell_type": "markdown",
   "id": "ee9d8eb1-f101-4c9c-832f-19b16dfc9566",
   "metadata": {},
   "source": [
    "Kwadratowa:"
   ]
  },
  {
   "cell_type": "code",
   "execution_count": null,
   "id": "94d078bd-1af2-406d-9311-c1c3b5d796f0",
   "metadata": {},
   "outputs": [],
   "source": [
    "print_confusion_matrix(get_prediction(quad_data_validation, data_training_quad_weights, data_validation_type_vector))"
   ]
  },
  {
   "cell_type": "markdown",
   "id": "bed6aba7-b128-46c7-9c58-d0c474cf80ba",
   "metadata": {},
   "source": [
    "Liniowa przy użyciu SVD:"
   ]
  },
  {
   "cell_type": "code",
   "execution_count": null,
   "id": "134f2c98-6500-480e-8d83-c1adf4c50006",
   "metadata": {},
   "outputs": [],
   "source": [
    "print_confusion_matrix(get_prediction(linear_data_validation, data_training_linear_weights_svd, data_validation_type_vector))"
   ]
  },
  {
   "cell_type": "markdown",
   "id": "64e52091-3ca6-48db-ad00-65899e2bcad4",
   "metadata": {},
   "source": [
    "Zregularyzowana liniowa:"
   ]
  },
  {
   "cell_type": "code",
   "execution_count": null,
   "id": "05c4b59c-57d4-4d8c-b4b2-5218b2624461",
   "metadata": {},
   "outputs": [],
   "source": [
    "print_confusion_matrix(get_prediction(linear_data_validation, data_training_linear_weights_regularized, data_validation_type_vector))"
   ]
  }
 ],
 "metadata": {
  "kernelspec": {
   "display_name": "Python 3 (ipykernel)",
   "language": "python",
   "name": "python3"
  },
  "language_info": {
   "codemirror_mode": {
    "name": "ipython",
    "version": 3
   },
   "file_extension": ".py",
   "mimetype": "text/x-python",
   "name": "python",
   "nbconvert_exporter": "python",
   "pygments_lexer": "ipython3",
   "version": "3.13.2"
  }
 },
 "nbformat": 4,
 "nbformat_minor": 5
}
