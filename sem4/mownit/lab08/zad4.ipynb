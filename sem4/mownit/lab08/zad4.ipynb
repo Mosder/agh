{
 "cells": [
  {
   "cell_type": "markdown",
   "id": "eb03e460-c6b9-4078-956e-9dca121ab0ab",
   "metadata": {},
   "source": [
    "<h2>Import bibliotek</h2>"
   ]
  },
  {
   "cell_type": "code",
   "execution_count": 1,
   "id": "06610b2a-9786-4dcd-8659-ad09e099899d",
   "metadata": {},
   "outputs": [],
   "source": [
    "import numpy as np\n",
    "import scipy as sp\n",
    "import matplotlib.pyplot as plt"
   ]
  },
  {
   "cell_type": "markdown",
   "id": "3ed69e7a-6819-4978-8a31-58216cf155df",
   "metadata": {},
   "source": [
    "<h2>Zadanie 4.</h2>"
   ]
  },
  {
   "cell_type": "markdown",
   "id": "3b2cfda1-e050-4e44-9af9-0036d666aa3e",
   "metadata": {},
   "source": [
    "<h3>$\\mathbf{x_n} = (x_1, x_2)$</h3>"
   ]
  },
  {
   "cell_type": "markdown",
   "id": "71802989-2ec9-4b43-9356-2fa3ea188151",
   "metadata": {},
   "source": [
    "<h3>$f_1(\\mathbf{x_n}) = x_1^2 + x_2^2 - 1 = 0$</h3>"
   ]
  },
  {
   "cell_type": "markdown",
   "id": "b603133c-96ba-447b-af9b-728a3854fb99",
   "metadata": {},
   "source": [
    "<h3>$f_2(\\mathbf{x_n}) = x_1^2 - x_2 = 0$</h3>"
   ]
  },
  {
   "cell_type": "markdown",
   "id": "6e6c86d9-8f00-401a-bcf1-6becd646e2be",
   "metadata": {},
   "source": [
    "<h3>$F(\\mathbf{x_n}) = (f_1(\\mathbf{x_n}),f_2(\\mathbf{x_n}))$</h3>"
   ]
  },
  {
   "cell_type": "markdown",
   "id": "9880f20b-b85d-487b-b1ff-eb5feafeb728",
   "metadata": {},
   "source": [
    "<h3>$J(\\mathbf{x_n})$ - jakobian $F(\\mathbf{x_n})$</h3>"
   ]
  },
  {
   "cell_type": "markdown",
   "id": "e77a13f6-b177-4415-94f0-73a11c334d93",
   "metadata": {},
   "source": [
    "<h3>$\\mathbf{x_{n+1}} = \\mathbf{x_n} - J(\\mathbf{x_n})^{-1}F(\\mathbf{x_n}) \\implies J(\\mathbf{x_n})(\\mathbf{x_{n+1}} - \\mathbf{x_n}) = -F(\\mathbf{x_n})$</h3>"
   ]
  },
  {
   "cell_type": "markdown",
   "id": "773d1d2e-bc84-4fa5-9f74-08847bfa064d",
   "metadata": {},
   "source": [
    "Definicja funkcji F i jakobianu J"
   ]
  },
  {
   "cell_type": "code",
   "execution_count": 2,
   "id": "6f84cc79-715b-47d0-92be-557857fdd8d4",
   "metadata": {},
   "outputs": [],
   "source": [
    "# define F\n",
    "def F(x):\n",
    "    return np.array([x[0]**2 + x[1]**2 - 1, x[0]**2 - x[1]])\n",
    "\n",
    "# define J\n",
    "def J(x):\n",
    "    return np.array([[2*x[0], 2*x[1]],\n",
    "                     [2*x[0], -1]])"
   ]
  },
  {
   "cell_type": "markdown",
   "id": "9adbbc35-613b-4163-914c-ad40729b1ddf",
   "metadata": {},
   "source": [
    "Definicja prawdziwego rozwiązania układu"
   ]
  },
  {
   "cell_type": "code",
   "execution_count": 3,
   "id": "f0474036-0cb6-45ad-a1aa-9a0d4e2a6360",
   "metadata": {},
   "outputs": [],
   "source": [
    "# define correct solution (one of two)\n",
    "correct_solution = np.array([np.sqrt(np.sqrt(5)/2 - 1/2), np.sqrt(5)/2 - 1/2])"
   ]
  },
  {
   "cell_type": "markdown",
   "id": "4ccb8fc9-097e-4c91-9981-670af2a2c8fd",
   "metadata": {},
   "source": [
    "Definicja funkcji obliczającej rozwiązanie metodą Newtona"
   ]
  },
  {
   "cell_type": "code",
   "execution_count": 4,
   "id": "d81b587d-ed84-4dc5-a0e5-c21f42114d38",
   "metadata": {},
   "outputs": [],
   "source": [
    "# define Newton method function\n",
    "def solve_newton(F, J, x0, iters=15):\n",
    "    for i in range(iters):\n",
    "        x_prev = x0\n",
    "        x0 = x_prev + np.linalg.solve(J(x_prev), -F(x_prev))\n",
    "    return x0"
   ]
  },
  {
   "cell_type": "markdown",
   "id": "b7fa97de-f90b-402a-8a4a-d8b1de5ec8e9",
   "metadata": {},
   "source": [
    "Obliczenie rozwiązania"
   ]
  },
  {
   "cell_type": "code",
   "execution_count": 5,
   "id": "06985407-23d4-4e75-a5a3-b00d2cacd36c",
   "metadata": {},
   "outputs": [],
   "source": [
    "x0 = np.array([1.0, 1.0])\n",
    "newton_solution = solve_newton(F, J, x0)\n",
    "newton_error = np.abs((newton_solution-correct_solution) / correct_solution)"
   ]
  },
  {
   "cell_type": "markdown",
   "id": "0d3c878a-0381-45a8-9434-5c0966650e82",
   "metadata": {},
   "source": [
    "Pokazanie wyników"
   ]
  },
  {
   "cell_type": "code",
   "execution_count": 6,
   "id": "82ebc39d-0faa-4300-bb8c-c1ecb7523d52",
   "metadata": {},
   "outputs": [
    {
     "name": "stdout",
     "output_type": "stream",
     "text": [
      "Real solution:\n",
      "\tx0 = 0.7861513777574233\n",
      "\tx1 = 0.6180339887498949\n",
      "Newton solution for 15 iters:\n",
      "\tx0 = 0.7861513777574233\n",
      "\tx1 = 0.6180339887498948\n",
      "Newton relative errors for 15 iters:\n",
      "\terr(x0) = 0.0\n",
      "\terr(x1) = 1.7963785889362146e-16\n"
     ]
    }
   ],
   "source": [
    "print(f\"Real solution:\\n\\tx0 = {correct_solution[0]}\\n\\tx1 = {correct_solution[1]}\")\n",
    "print(f\"Newton solution for 15 iters:\\n\\tx0 = {newton_solution[0]}\\n\\tx1 = {newton_solution[1]}\")\n",
    "print(f\"Newton relative errors for 15 iters:\\n\\terr(x0) = {newton_error[0]}\\n\\terr(x1) = {newton_error[1]}\")"
   ]
  }
 ],
 "metadata": {
  "kernelspec": {
   "display_name": "Python 3 (ipykernel)",
   "language": "python",
   "name": "python3"
  },
  "language_info": {
   "codemirror_mode": {
    "name": "ipython",
    "version": 3
   },
   "file_extension": ".py",
   "mimetype": "text/x-python",
   "name": "python",
   "nbconvert_exporter": "python",
   "pygments_lexer": "ipython3",
   "version": "3.13.2"
  }
 },
 "nbformat": 4,
 "nbformat_minor": 5
}
