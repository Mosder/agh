{
 "cells": [
  {
   "cell_type": "markdown",
   "id": "eb03e460-c6b9-4078-956e-9dca121ab0ab",
   "metadata": {},
   "source": [
    "<h2>Import bibliotek</h2>"
   ]
  },
  {
   "cell_type": "code",
   "execution_count": 1,
   "id": "06610b2a-9786-4dcd-8659-ad09e099899d",
   "metadata": {},
   "outputs": [],
   "source": [
    "import numpy as np\n",
    "import scipy as sp\n",
    "import matplotlib.pyplot as plt"
   ]
  },
  {
   "cell_type": "markdown",
   "id": "3ed69e7a-6819-4978-8a31-58216cf155df",
   "metadata": {},
   "source": [
    "<h2>Zadanie 3.</h2>"
   ]
  },
  {
   "cell_type": "markdown",
   "id": "87441c8a-c563-496f-a71a-42be673cbdb9",
   "metadata": {},
   "source": [
    "<h3>$f_a(x) = x^3 - 2x - 5 = 0$</h3>"
   ]
  },
  {
   "cell_type": "markdown",
   "id": "7c84f9ac-f597-4d38-9f26-a8453f6279ae",
   "metadata": {},
   "source": [
    "<h3>$f_b(x) = e^{-x} - x = 0$</h3>"
   ]
  },
  {
   "cell_type": "markdown",
   "id": "205663fe-234d-4f03-adeb-77eb9d92a799",
   "metadata": {},
   "source": [
    "<h3>$f_c(x) = x\\sin{x} - 1 = 0$</h3>"
   ]
  },
  {
   "cell_type": "code",
   "execution_count": 2,
   "id": "d290be87-873f-4e75-9dbd-d77a495fee4f",
   "metadata": {},
   "outputs": [],
   "source": [
    "# define fa\n",
    "def fa(x):\n",
    "    return x**3 - 2*x - 5\n",
    "# define dfa/dx\n",
    "def dfa_dx(x):\n",
    "    return 3*x**2 - 2\n",
    "\n",
    "# define fb\n",
    "def fb(x):\n",
    "    return np.exp(-x) - x\n",
    "# define dfb/dx\n",
    "def dfb_dx(x):\n",
    "    return -np.exp(-x) - 1\n",
    "\n",
    "# define fc\n",
    "def fc(x):\n",
    "    return x*np.sin(x) - 1\n",
    "# define dfc/dx\n",
    "def dfc_dx(x):\n",
    "    return np.sin(x) + x*np.cos(x)"
   ]
  },
  {
   "cell_type": "markdown",
   "id": "1555c5fb-04d9-4258-95d2-9d860edb46b3",
   "metadata": {},
   "source": [
    "Funkcja obliczająca pierwiastek z daną tolerancją metodą Newtona"
   ]
  },
  {
   "cell_type": "code",
   "execution_count": 3,
   "id": "19187cb3-18e0-41a5-b643-656c0f77a09c",
   "metadata": {},
   "outputs": [],
   "source": [
    "# get root using Newton's method\n",
    "def calculate_root(f, df_dx, x0, tolerance_bit=32, max_iter=1000):\n",
    "    tolerance = np.float64(1.0 / (2**tolerance_bit))\n",
    "    for i in range(1, max_iter+1):\n",
    "        x_prev = x0\n",
    "        x0 = x_prev - f(x_prev)/df_dx(x_prev)\n",
    "        if np.abs(x_prev - x0) <= tolerance:\n",
    "            break\n",
    "    return x0, i"
   ]
  },
  {
   "cell_type": "markdown",
   "id": "05c08df0-f387-4d9a-85b6-7b0800f3b159",
   "metadata": {},
   "source": [
    "<h4>Obliczenie pierwiastków w precyzji 4-bitowej</h4>"
   ]
  },
  {
   "cell_type": "code",
   "execution_count": 4,
   "id": "235154f8-ce27-4d60-bdbb-85b6c52aefc1",
   "metadata": {},
   "outputs": [],
   "source": [
    "# calculate the values of 4-bit precision roots\n",
    "ax0, _ = calculate_root(fa, dfa_dx, np.float64(2.0), 4)\n",
    "bx0, _ = calculate_root(fb, dfb_dx, np.float64(0.5), 4)\n",
    "cx0, _ = calculate_root(fc, dfc_dx, np.float64(1.0), 4)"
   ]
  },
  {
   "cell_type": "markdown",
   "id": "e2766901-a516-4c36-b4b7-43d02aba58ff",
   "metadata": {},
   "source": [
    "Wypisanie otrzymanych wyników"
   ]
  },
  {
   "cell_type": "code",
   "execution_count": 5,
   "id": "62c1faf9-25f7-47b8-941f-582349e5fa46",
   "metadata": {},
   "outputs": [
    {
     "name": "stdout",
     "output_type": "stream",
     "text": [
      "fa: 2.09456812\n",
      "fb: 0.56714317\n",
      "fc: 1.11415713\n"
     ]
    }
   ],
   "source": [
    "print(f\"fa: {\"{:.8f}\".format(ax0)}\")\n",
    "print(f\"fb: {\"{:.8f}\".format(bx0)}\")\n",
    "print(f\"fc: {\"{:.8f}\".format(cx0)}\")"
   ]
  },
  {
   "cell_type": "markdown",
   "id": "785e699d-a3d1-4d33-8eb4-a57e84c1ea9b",
   "metadata": {},
   "source": [
    "<h4>Obliczenie pierwiastków w precyzji 24-bitowej zaczynając z precyzji 4-biotwej</h4>"
   ]
  },
  {
   "cell_type": "code",
   "execution_count": 6,
   "id": "abbfdffb-0200-4845-89f7-e04ba7fec530",
   "metadata": {},
   "outputs": [],
   "source": [
    "# calculate the values of 4-bit precision roots\n",
    "a24, a_iter24 = calculate_root(fa, dfa_dx, ax0, 24)\n",
    "b24, b_iter24 = calculate_root(fb, dfb_dx, bx0, 24)\n",
    "c24, c_iter24 = calculate_root(fc, dfc_dx, cx0, 24)"
   ]
  },
  {
   "cell_type": "markdown",
   "id": "4e178e9d-ee06-477d-bd71-b8582468cd88",
   "metadata": {},
   "source": [
    "Wypisanie otrzymanych wyników"
   ]
  },
  {
   "cell_type": "code",
   "execution_count": 7,
   "id": "e5c33359-4ac0-40c1-a8f4-b998c3c464ba",
   "metadata": {},
   "outputs": [
    {
     "name": "stdout",
     "output_type": "stream",
     "text": [
      "expected iters: 3 (4 * 2^3 = 32 >= 24)\n",
      "fa: 2.09455148; 2 iters\n",
      "fb: 0.56714329; 2 iters\n",
      "fc: 1.11415714; 1 iters\n"
     ]
    }
   ],
   "source": [
    "print(\"expected iters: 3 (4 * 2^3 = 32 >= 24)\")\n",
    "print(f\"fa: {\"{:.8f}\".format(a24)}; {a_iter24} iters\")\n",
    "print(f\"fb: {\"{:.8f}\".format(b24)}; {b_iter24} iters\")\n",
    "print(f\"fc: {\"{:.8f}\".format(c24)}; {c_iter24} iters\")"
   ]
  },
  {
   "cell_type": "markdown",
   "id": "37d7c0f7-0077-4c7d-b129-5960e6b6dfb1",
   "metadata": {},
   "source": [
    "<h4>Obliczenie pierwiastków w precyzji 53-bitowej zaczynając z precyzji 4-biotwej</h4>"
   ]
  },
  {
   "cell_type": "code",
   "execution_count": 8,
   "id": "770f711f-5951-4543-afa6-c44434765736",
   "metadata": {},
   "outputs": [],
   "source": [
    "# calculate the values of 4-bit precision roots\n",
    "a53, a_iter53 = calculate_root(fa, dfa_dx, ax0, 53)\n",
    "b53, b_iter53 = calculate_root(fb, dfb_dx, bx0, 53)\n",
    "c53, c_iter53 = calculate_root(fc, dfc_dx, cx0, 53)"
   ]
  },
  {
   "cell_type": "markdown",
   "id": "f6f4922f-432e-4e68-a394-e7ad26e44fb1",
   "metadata": {},
   "source": [
    "Wypisanie otrzymanych wyników"
   ]
  },
  {
   "cell_type": "code",
   "execution_count": 9,
   "id": "c35eb8d2-10ef-411b-b0da-4ae98a047ca3",
   "metadata": {},
   "outputs": [
    {
     "name": "stdout",
     "output_type": "stream",
     "text": [
      "expected iters: 4 (4 * 2^4 = 64 >= 53)\n",
      "fa: 2.09455148; 3 iters\n",
      "fb: 0.56714329; 3 iters\n",
      "fc: 1.11415714; 1000 iters\n"
     ]
    }
   ],
   "source": [
    "print(\"expected iters: 4 (4 * 2^4 = 64 >= 53)\")\n",
    "print(f\"fa: {\"{:.8f}\".format(a53)}; {a_iter53} iters\")\n",
    "print(f\"fb: {\"{:.8f}\".format(b53)}; {b_iter53} iters\")\n",
    "print(f\"fc: {\"{:.8f}\".format(c53)}; {c_iter53} iters\")"
   ]
  }
 ],
 "metadata": {
  "kernelspec": {
   "display_name": "Python 3 (ipykernel)",
   "language": "python",
   "name": "python3"
  },
  "language_info": {
   "codemirror_mode": {
    "name": "ipython",
    "version": 3
   },
   "file_extension": ".py",
   "mimetype": "text/x-python",
   "name": "python",
   "nbconvert_exporter": "python",
   "pygments_lexer": "ipython3",
   "version": "3.13.2"
  }
 },
 "nbformat": 4,
 "nbformat_minor": 5
}
